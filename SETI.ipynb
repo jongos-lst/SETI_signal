{
  "nbformat": 4,
  "nbformat_minor": 0,
  "metadata": {
    "colab": {
      "name": "Copy of Copy of Copy of SETI training",
      "provenance": [],
      "collapsed_sections": [
        "9vMkyHQgsh8p"
      ]
    },
    "kernelspec": {
      "display_name": "Python 3",
      "language": "python",
      "name": "python3"
    },
    "language_info": {
      "codemirror_mode": {
        "name": "ipython",
        "version": 3
      },
      "file_extension": ".py",
      "mimetype": "text/x-python",
      "name": "python",
      "nbconvert_exporter": "python",
      "pygments_lexer": "ipython3",
      "version": "3.6.4"
    },
    "accelerator": "GPU",
    "widgets": {
      "application/vnd.jupyter.widget-state+json": {
        "c636b049daa44d1397caa973443bf5f5": {
          "model_module": "@jupyter-widgets/controls",
          "model_name": "VBoxModel",
          "model_module_version": "1.5.0",
          "state": {
            "_view_name": "VBoxView",
            "_dom_classes": [],
            "_model_name": "VBoxModel",
            "_view_module": "@jupyter-widgets/controls",
            "_model_module_version": "1.5.0",
            "_view_count": null,
            "_view_module_version": "1.5.0",
            "box_style": "",
            "layout": "IPY_MODEL_b368a4cc5e684dc69e4b4be61d37f9ab",
            "_model_module": "@jupyter-widgets/controls",
            "children": [
              "IPY_MODEL_1909c2523bc641c5a8e6abd5a4beb86e",
              "IPY_MODEL_1930852f965a46f5bd2fd1af2991c882",
              "IPY_MODEL_6e15ef22bb734325914e76766a3795a6"
            ]
          }
        },
        "b368a4cc5e684dc69e4b4be61d37f9ab": {
          "model_module": "@jupyter-widgets/base",
          "model_name": "LayoutModel",
          "model_module_version": "1.2.0",
          "state": {
            "_view_name": "LayoutView",
            "grid_template_rows": null,
            "right": null,
            "justify_content": null,
            "_view_module": "@jupyter-widgets/base",
            "overflow": null,
            "_model_module_version": "1.2.0",
            "_view_count": null,
            "flex_flow": null,
            "width": null,
            "min_width": null,
            "border": null,
            "align_items": null,
            "bottom": null,
            "_model_module": "@jupyter-widgets/base",
            "top": null,
            "grid_column": null,
            "overflow_y": null,
            "overflow_x": null,
            "grid_auto_flow": null,
            "grid_area": null,
            "grid_template_columns": null,
            "flex": null,
            "_model_name": "LayoutModel",
            "justify_items": null,
            "grid_row": null,
            "max_height": null,
            "align_content": null,
            "visibility": null,
            "align_self": null,
            "height": null,
            "min_height": null,
            "padding": null,
            "grid_auto_rows": null,
            "grid_gap": null,
            "max_width": null,
            "order": null,
            "_view_module_version": "1.2.0",
            "grid_template_areas": null,
            "object_position": null,
            "object_fit": null,
            "grid_auto_columns": null,
            "margin": null,
            "display": null,
            "left": null
          }
        },
        "1909c2523bc641c5a8e6abd5a4beb86e": {
          "model_module": "@jupyter-widgets/controls",
          "model_name": "HBoxModel",
          "model_module_version": "1.5.0",
          "state": {
            "_view_name": "HBoxView",
            "_dom_classes": [],
            "_model_name": "HBoxModel",
            "_view_module": "@jupyter-widgets/controls",
            "_model_module_version": "1.5.0",
            "_view_count": null,
            "_view_module_version": "1.5.0",
            "box_style": "",
            "layout": "IPY_MODEL_06e91a62c8c34c789be206c3924f807e",
            "_model_module": "@jupyter-widgets/controls",
            "children": [
              "IPY_MODEL_ab5484823672484391b12840c91a3b95",
              "IPY_MODEL_562c6d4b1b1f4ed5ac3a989058c5ef9e"
            ]
          }
        },
        "1930852f965a46f5bd2fd1af2991c882": {
          "model_module": "@jupyter-widgets/controls",
          "model_name": "HBoxModel",
          "model_module_version": "1.5.0",
          "state": {
            "_view_name": "HBoxView",
            "_dom_classes": [],
            "_model_name": "HBoxModel",
            "_view_module": "@jupyter-widgets/controls",
            "_model_module_version": "1.5.0",
            "_view_count": null,
            "_view_module_version": "1.5.0",
            "box_style": "",
            "layout": "IPY_MODEL_a99299836b3143e3a842fc19469e29d6",
            "_model_module": "@jupyter-widgets/controls",
            "children": [
              "IPY_MODEL_e8b936ef4ece437fa4e9acd3689004ff",
              "IPY_MODEL_8580dfba7237422697288d2d966cb318"
            ]
          }
        },
        "6e15ef22bb734325914e76766a3795a6": {
          "model_module": "@jupyter-widgets/controls",
          "model_name": "HTMLModel",
          "model_module_version": "1.5.0",
          "state": {
            "_view_name": "HTMLView",
            "style": "IPY_MODEL_6cf82b6e809e4a869bbf19c623794080",
            "_dom_classes": [],
            "description": "",
            "_model_name": "HTMLModel",
            "placeholder": "​",
            "_view_module": "@jupyter-widgets/controls",
            "_model_module_version": "1.5.0",
            "value": "     60000 iter, 20 epoch / 20 epochs<br />    3.3209 iters/sec. Estimated time to finish: 0:00:00.",
            "_view_count": null,
            "_view_module_version": "1.5.0",
            "description_tooltip": null,
            "_model_module": "@jupyter-widgets/controls",
            "layout": "IPY_MODEL_36548eefcc954045976d2da25107d1d6"
          }
        },
        "06e91a62c8c34c789be206c3924f807e": {
          "model_module": "@jupyter-widgets/base",
          "model_name": "LayoutModel",
          "model_module_version": "1.2.0",
          "state": {
            "_view_name": "LayoutView",
            "grid_template_rows": null,
            "right": null,
            "justify_content": null,
            "_view_module": "@jupyter-widgets/base",
            "overflow": null,
            "_model_module_version": "1.2.0",
            "_view_count": null,
            "flex_flow": null,
            "width": null,
            "min_width": null,
            "border": null,
            "align_items": null,
            "bottom": null,
            "_model_module": "@jupyter-widgets/base",
            "top": null,
            "grid_column": null,
            "overflow_y": null,
            "overflow_x": null,
            "grid_auto_flow": null,
            "grid_area": null,
            "grid_template_columns": null,
            "flex": null,
            "_model_name": "LayoutModel",
            "justify_items": null,
            "grid_row": null,
            "max_height": null,
            "align_content": null,
            "visibility": null,
            "align_self": null,
            "height": null,
            "min_height": null,
            "padding": null,
            "grid_auto_rows": null,
            "grid_gap": null,
            "max_width": null,
            "order": null,
            "_view_module_version": "1.2.0",
            "grid_template_areas": null,
            "object_position": null,
            "object_fit": null,
            "grid_auto_columns": null,
            "margin": null,
            "display": null,
            "left": null
          }
        },
        "ab5484823672484391b12840c91a3b95": {
          "model_module": "@jupyter-widgets/controls",
          "model_name": "FloatProgressModel",
          "model_module_version": "1.5.0",
          "state": {
            "_view_name": "ProgressView",
            "style": "IPY_MODEL_4acd5bcd8b67416fb0a71951044a2b81",
            "_dom_classes": [],
            "description": "total",
            "_model_name": "FloatProgressModel",
            "bar_style": "success",
            "max": 1,
            "_view_module": "@jupyter-widgets/controls",
            "_model_module_version": "1.5.0",
            "value": 1,
            "_view_count": null,
            "_view_module_version": "1.5.0",
            "orientation": "horizontal",
            "min": 0,
            "description_tooltip": null,
            "_model_module": "@jupyter-widgets/controls",
            "layout": "IPY_MODEL_99e2c50fa3634fa5985804759e0871b2"
          }
        },
        "562c6d4b1b1f4ed5ac3a989058c5ef9e": {
          "model_module": "@jupyter-widgets/controls",
          "model_name": "HTMLModel",
          "model_module_version": "1.5.0",
          "state": {
            "_view_name": "HTMLView",
            "style": "IPY_MODEL_8ba9a138f73f434f8fa0c6bcc0ac3f09",
            "_dom_classes": [],
            "description": "",
            "_model_name": "HTMLModel",
            "placeholder": "​",
            "_view_module": "@jupyter-widgets/controls",
            "_model_module_version": "1.5.0",
            "value": "100.00%",
            "_view_count": null,
            "_view_module_version": "1.5.0",
            "description_tooltip": null,
            "_model_module": "@jupyter-widgets/controls",
            "layout": "IPY_MODEL_0afc8f5816dd4892b72b0e99e823155e"
          }
        },
        "a99299836b3143e3a842fc19469e29d6": {
          "model_module": "@jupyter-widgets/base",
          "model_name": "LayoutModel",
          "model_module_version": "1.2.0",
          "state": {
            "_view_name": "LayoutView",
            "grid_template_rows": null,
            "right": null,
            "justify_content": null,
            "_view_module": "@jupyter-widgets/base",
            "overflow": null,
            "_model_module_version": "1.2.0",
            "_view_count": null,
            "flex_flow": null,
            "width": null,
            "min_width": null,
            "border": null,
            "align_items": null,
            "bottom": null,
            "_model_module": "@jupyter-widgets/base",
            "top": null,
            "grid_column": null,
            "overflow_y": null,
            "overflow_x": null,
            "grid_auto_flow": null,
            "grid_area": null,
            "grid_template_columns": null,
            "flex": null,
            "_model_name": "LayoutModel",
            "justify_items": null,
            "grid_row": null,
            "max_height": null,
            "align_content": null,
            "visibility": null,
            "align_self": null,
            "height": null,
            "min_height": null,
            "padding": null,
            "grid_auto_rows": null,
            "grid_gap": null,
            "max_width": null,
            "order": null,
            "_view_module_version": "1.2.0",
            "grid_template_areas": null,
            "object_position": null,
            "object_fit": null,
            "grid_auto_columns": null,
            "margin": null,
            "display": null,
            "left": null
          }
        },
        "e8b936ef4ece437fa4e9acd3689004ff": {
          "model_module": "@jupyter-widgets/controls",
          "model_name": "FloatProgressModel",
          "model_module_version": "1.5.0",
          "state": {
            "_view_name": "ProgressView",
            "style": "IPY_MODEL_1f28998d19754cedb33e1b6c597255f7",
            "_dom_classes": [],
            "description": "this epoch",
            "_model_name": "FloatProgressModel",
            "bar_style": "success",
            "max": 1,
            "_view_module": "@jupyter-widgets/controls",
            "_model_module_version": "1.5.0",
            "value": 0,
            "_view_count": null,
            "_view_module_version": "1.5.0",
            "orientation": "horizontal",
            "min": 0,
            "description_tooltip": null,
            "_model_module": "@jupyter-widgets/controls",
            "layout": "IPY_MODEL_bcd72d54a5274616acce8216c495544a"
          }
        },
        "8580dfba7237422697288d2d966cb318": {
          "model_module": "@jupyter-widgets/controls",
          "model_name": "HTMLModel",
          "model_module_version": "1.5.0",
          "state": {
            "_view_name": "HTMLView",
            "style": "IPY_MODEL_c52540af47e149fd9f382e4efc03b985",
            "_dom_classes": [],
            "description": "",
            "_model_name": "HTMLModel",
            "placeholder": "​",
            "_view_module": "@jupyter-widgets/controls",
            "_model_module_version": "1.5.0",
            "value": " 0.00%",
            "_view_count": null,
            "_view_module_version": "1.5.0",
            "description_tooltip": null,
            "_model_module": "@jupyter-widgets/controls",
            "layout": "IPY_MODEL_69f70a8ca57640f0876d97ebf52ab03f"
          }
        },
        "6cf82b6e809e4a869bbf19c623794080": {
          "model_module": "@jupyter-widgets/controls",
          "model_name": "DescriptionStyleModel",
          "model_module_version": "1.5.0",
          "state": {
            "_view_name": "StyleView",
            "_model_name": "DescriptionStyleModel",
            "description_width": "",
            "_view_module": "@jupyter-widgets/base",
            "_model_module_version": "1.5.0",
            "_view_count": null,
            "_view_module_version": "1.2.0",
            "_model_module": "@jupyter-widgets/controls"
          }
        },
        "36548eefcc954045976d2da25107d1d6": {
          "model_module": "@jupyter-widgets/base",
          "model_name": "LayoutModel",
          "model_module_version": "1.2.0",
          "state": {
            "_view_name": "LayoutView",
            "grid_template_rows": null,
            "right": null,
            "justify_content": null,
            "_view_module": "@jupyter-widgets/base",
            "overflow": null,
            "_model_module_version": "1.2.0",
            "_view_count": null,
            "flex_flow": null,
            "width": null,
            "min_width": null,
            "border": null,
            "align_items": null,
            "bottom": null,
            "_model_module": "@jupyter-widgets/base",
            "top": null,
            "grid_column": null,
            "overflow_y": null,
            "overflow_x": null,
            "grid_auto_flow": null,
            "grid_area": null,
            "grid_template_columns": null,
            "flex": null,
            "_model_name": "LayoutModel",
            "justify_items": null,
            "grid_row": null,
            "max_height": null,
            "align_content": null,
            "visibility": null,
            "align_self": null,
            "height": null,
            "min_height": null,
            "padding": null,
            "grid_auto_rows": null,
            "grid_gap": null,
            "max_width": null,
            "order": null,
            "_view_module_version": "1.2.0",
            "grid_template_areas": null,
            "object_position": null,
            "object_fit": null,
            "grid_auto_columns": null,
            "margin": null,
            "display": null,
            "left": null
          }
        },
        "4acd5bcd8b67416fb0a71951044a2b81": {
          "model_module": "@jupyter-widgets/controls",
          "model_name": "ProgressStyleModel",
          "model_module_version": "1.5.0",
          "state": {
            "_view_name": "StyleView",
            "_model_name": "ProgressStyleModel",
            "description_width": "",
            "_view_module": "@jupyter-widgets/base",
            "_model_module_version": "1.5.0",
            "_view_count": null,
            "_view_module_version": "1.2.0",
            "bar_color": null,
            "_model_module": "@jupyter-widgets/controls"
          }
        },
        "99e2c50fa3634fa5985804759e0871b2": {
          "model_module": "@jupyter-widgets/base",
          "model_name": "LayoutModel",
          "model_module_version": "1.2.0",
          "state": {
            "_view_name": "LayoutView",
            "grid_template_rows": null,
            "right": null,
            "justify_content": null,
            "_view_module": "@jupyter-widgets/base",
            "overflow": null,
            "_model_module_version": "1.2.0",
            "_view_count": null,
            "flex_flow": null,
            "width": null,
            "min_width": null,
            "border": null,
            "align_items": null,
            "bottom": null,
            "_model_module": "@jupyter-widgets/base",
            "top": null,
            "grid_column": null,
            "overflow_y": null,
            "overflow_x": null,
            "grid_auto_flow": null,
            "grid_area": null,
            "grid_template_columns": null,
            "flex": null,
            "_model_name": "LayoutModel",
            "justify_items": null,
            "grid_row": null,
            "max_height": null,
            "align_content": null,
            "visibility": null,
            "align_self": null,
            "height": null,
            "min_height": null,
            "padding": null,
            "grid_auto_rows": null,
            "grid_gap": null,
            "max_width": null,
            "order": null,
            "_view_module_version": "1.2.0",
            "grid_template_areas": null,
            "object_position": null,
            "object_fit": null,
            "grid_auto_columns": null,
            "margin": null,
            "display": null,
            "left": null
          }
        },
        "8ba9a138f73f434f8fa0c6bcc0ac3f09": {
          "model_module": "@jupyter-widgets/controls",
          "model_name": "DescriptionStyleModel",
          "model_module_version": "1.5.0",
          "state": {
            "_view_name": "StyleView",
            "_model_name": "DescriptionStyleModel",
            "description_width": "",
            "_view_module": "@jupyter-widgets/base",
            "_model_module_version": "1.5.0",
            "_view_count": null,
            "_view_module_version": "1.2.0",
            "_model_module": "@jupyter-widgets/controls"
          }
        },
        "0afc8f5816dd4892b72b0e99e823155e": {
          "model_module": "@jupyter-widgets/base",
          "model_name": "LayoutModel",
          "model_module_version": "1.2.0",
          "state": {
            "_view_name": "LayoutView",
            "grid_template_rows": null,
            "right": null,
            "justify_content": null,
            "_view_module": "@jupyter-widgets/base",
            "overflow": null,
            "_model_module_version": "1.2.0",
            "_view_count": null,
            "flex_flow": null,
            "width": null,
            "min_width": null,
            "border": null,
            "align_items": null,
            "bottom": null,
            "_model_module": "@jupyter-widgets/base",
            "top": null,
            "grid_column": null,
            "overflow_y": null,
            "overflow_x": null,
            "grid_auto_flow": null,
            "grid_area": null,
            "grid_template_columns": null,
            "flex": null,
            "_model_name": "LayoutModel",
            "justify_items": null,
            "grid_row": null,
            "max_height": null,
            "align_content": null,
            "visibility": null,
            "align_self": null,
            "height": null,
            "min_height": null,
            "padding": null,
            "grid_auto_rows": null,
            "grid_gap": null,
            "max_width": null,
            "order": null,
            "_view_module_version": "1.2.0",
            "grid_template_areas": null,
            "object_position": null,
            "object_fit": null,
            "grid_auto_columns": null,
            "margin": null,
            "display": null,
            "left": null
          }
        },
        "1f28998d19754cedb33e1b6c597255f7": {
          "model_module": "@jupyter-widgets/controls",
          "model_name": "ProgressStyleModel",
          "model_module_version": "1.5.0",
          "state": {
            "_view_name": "StyleView",
            "_model_name": "ProgressStyleModel",
            "description_width": "",
            "_view_module": "@jupyter-widgets/base",
            "_model_module_version": "1.5.0",
            "_view_count": null,
            "_view_module_version": "1.2.0",
            "bar_color": null,
            "_model_module": "@jupyter-widgets/controls"
          }
        },
        "bcd72d54a5274616acce8216c495544a": {
          "model_module": "@jupyter-widgets/base",
          "model_name": "LayoutModel",
          "model_module_version": "1.2.0",
          "state": {
            "_view_name": "LayoutView",
            "grid_template_rows": null,
            "right": null,
            "justify_content": null,
            "_view_module": "@jupyter-widgets/base",
            "overflow": null,
            "_model_module_version": "1.2.0",
            "_view_count": null,
            "flex_flow": null,
            "width": null,
            "min_width": null,
            "border": null,
            "align_items": null,
            "bottom": null,
            "_model_module": "@jupyter-widgets/base",
            "top": null,
            "grid_column": null,
            "overflow_y": null,
            "overflow_x": null,
            "grid_auto_flow": null,
            "grid_area": null,
            "grid_template_columns": null,
            "flex": null,
            "_model_name": "LayoutModel",
            "justify_items": null,
            "grid_row": null,
            "max_height": null,
            "align_content": null,
            "visibility": null,
            "align_self": null,
            "height": null,
            "min_height": null,
            "padding": null,
            "grid_auto_rows": null,
            "grid_gap": null,
            "max_width": null,
            "order": null,
            "_view_module_version": "1.2.0",
            "grid_template_areas": null,
            "object_position": null,
            "object_fit": null,
            "grid_auto_columns": null,
            "margin": null,
            "display": null,
            "left": null
          }
        },
        "c52540af47e149fd9f382e4efc03b985": {
          "model_module": "@jupyter-widgets/controls",
          "model_name": "DescriptionStyleModel",
          "model_module_version": "1.5.0",
          "state": {
            "_view_name": "StyleView",
            "_model_name": "DescriptionStyleModel",
            "description_width": "",
            "_view_module": "@jupyter-widgets/base",
            "_model_module_version": "1.5.0",
            "_view_count": null,
            "_view_module_version": "1.2.0",
            "_model_module": "@jupyter-widgets/controls"
          }
        },
        "69f70a8ca57640f0876d97ebf52ab03f": {
          "model_module": "@jupyter-widgets/base",
          "model_name": "LayoutModel",
          "model_module_version": "1.2.0",
          "state": {
            "_view_name": "LayoutView",
            "grid_template_rows": null,
            "right": null,
            "justify_content": null,
            "_view_module": "@jupyter-widgets/base",
            "overflow": null,
            "_model_module_version": "1.2.0",
            "_view_count": null,
            "flex_flow": null,
            "width": null,
            "min_width": null,
            "border": null,
            "align_items": null,
            "bottom": null,
            "_model_module": "@jupyter-widgets/base",
            "top": null,
            "grid_column": null,
            "overflow_y": null,
            "overflow_x": null,
            "grid_auto_flow": null,
            "grid_area": null,
            "grid_template_columns": null,
            "flex": null,
            "_model_name": "LayoutModel",
            "justify_items": null,
            "grid_row": null,
            "max_height": null,
            "align_content": null,
            "visibility": null,
            "align_self": null,
            "height": null,
            "min_height": null,
            "padding": null,
            "grid_auto_rows": null,
            "grid_gap": null,
            "max_width": null,
            "order": null,
            "_view_module_version": "1.2.0",
            "grid_template_areas": null,
            "object_position": null,
            "object_fit": null,
            "grid_auto_columns": null,
            "margin": null,
            "display": null,
            "left": null
          }
        },
        "35282e5b0b444c078ad33c29400e84be": {
          "model_module": "@jupyter-widgets/controls",
          "model_name": "HBoxModel",
          "model_module_version": "1.5.0",
          "state": {
            "_view_name": "HBoxView",
            "_dom_classes": [],
            "_model_name": "HBoxModel",
            "_view_module": "@jupyter-widgets/controls",
            "_model_module_version": "1.5.0",
            "_view_count": null,
            "_view_module_version": "1.5.0",
            "box_style": "",
            "layout": "IPY_MODEL_52fe2cc9ad864b6588578dc44081be5e",
            "_model_module": "@jupyter-widgets/controls",
            "children": [
              "IPY_MODEL_cb8f07b36d8448f89eeb6722ad6392dd",
              "IPY_MODEL_7b3710dc4a234cd888697439673a98c0",
              "IPY_MODEL_ad6c0ac8caa24eb4b24945e8547d7183"
            ]
          }
        },
        "52fe2cc9ad864b6588578dc44081be5e": {
          "model_module": "@jupyter-widgets/base",
          "model_name": "LayoutModel",
          "model_module_version": "1.2.0",
          "state": {
            "_view_name": "LayoutView",
            "grid_template_rows": null,
            "right": null,
            "justify_content": null,
            "_view_module": "@jupyter-widgets/base",
            "overflow": null,
            "_model_module_version": "1.2.0",
            "_view_count": null,
            "flex_flow": null,
            "width": null,
            "min_width": null,
            "border": null,
            "align_items": null,
            "bottom": null,
            "_model_module": "@jupyter-widgets/base",
            "top": null,
            "grid_column": null,
            "overflow_y": null,
            "overflow_x": null,
            "grid_auto_flow": null,
            "grid_area": null,
            "grid_template_columns": null,
            "flex": null,
            "_model_name": "LayoutModel",
            "justify_items": null,
            "grid_row": null,
            "max_height": null,
            "align_content": null,
            "visibility": null,
            "align_self": null,
            "height": null,
            "min_height": null,
            "padding": null,
            "grid_auto_rows": null,
            "grid_gap": null,
            "max_width": null,
            "order": null,
            "_view_module_version": "1.2.0",
            "grid_template_areas": null,
            "object_position": null,
            "object_fit": null,
            "grid_auto_columns": null,
            "margin": null,
            "display": null,
            "left": null
          }
        },
        "cb8f07b36d8448f89eeb6722ad6392dd": {
          "model_module": "@jupyter-widgets/controls",
          "model_name": "HTMLModel",
          "model_module_version": "1.5.0",
          "state": {
            "_view_name": "HTMLView",
            "style": "IPY_MODEL_f09142f4e57e4480ad3210f4059c9c64",
            "_dom_classes": [],
            "description": "",
            "_model_name": "HTMLModel",
            "placeholder": "​",
            "_view_module": "@jupyter-widgets/controls",
            "_model_module_version": "1.5.0",
            "value": "100%",
            "_view_count": null,
            "_view_module_version": "1.5.0",
            "description_tooltip": null,
            "_model_module": "@jupyter-widgets/controls",
            "layout": "IPY_MODEL_e78ee3ecf054408487a18e503a47aa60"
          }
        },
        "7b3710dc4a234cd888697439673a98c0": {
          "model_module": "@jupyter-widgets/controls",
          "model_name": "FloatProgressModel",
          "model_module_version": "1.5.0",
          "state": {
            "_view_name": "ProgressView",
            "style": "IPY_MODEL_8ee48489e0aa47108a54652828d57387",
            "_dom_classes": [],
            "description": "",
            "_model_name": "FloatProgressModel",
            "bar_style": "success",
            "max": 750,
            "_view_module": "@jupyter-widgets/controls",
            "_model_module_version": "1.5.0",
            "value": 750,
            "_view_count": null,
            "_view_module_version": "1.5.0",
            "orientation": "horizontal",
            "min": 0,
            "description_tooltip": null,
            "_model_module": "@jupyter-widgets/controls",
            "layout": "IPY_MODEL_d42d81fca7df4dd9931982a81d2665d4"
          }
        },
        "ad6c0ac8caa24eb4b24945e8547d7183": {
          "model_module": "@jupyter-widgets/controls",
          "model_name": "HTMLModel",
          "model_module_version": "1.5.0",
          "state": {
            "_view_name": "HTMLView",
            "style": "IPY_MODEL_fec7801815e04f7f98d9cec7fe3e1282",
            "_dom_classes": [],
            "description": "",
            "_model_name": "HTMLModel",
            "placeholder": "​",
            "_view_module": "@jupyter-widgets/controls",
            "_model_module_version": "1.5.0",
            "value": " 750/750 [02:23&lt;00:00,  5.31it/s]",
            "_view_count": null,
            "_view_module_version": "1.5.0",
            "description_tooltip": null,
            "_model_module": "@jupyter-widgets/controls",
            "layout": "IPY_MODEL_5204ce2a48b24beca8a79ef3760753d2"
          }
        },
        "f09142f4e57e4480ad3210f4059c9c64": {
          "model_module": "@jupyter-widgets/controls",
          "model_name": "DescriptionStyleModel",
          "model_module_version": "1.5.0",
          "state": {
            "_view_name": "StyleView",
            "_model_name": "DescriptionStyleModel",
            "description_width": "",
            "_view_module": "@jupyter-widgets/base",
            "_model_module_version": "1.5.0",
            "_view_count": null,
            "_view_module_version": "1.2.0",
            "_model_module": "@jupyter-widgets/controls"
          }
        },
        "e78ee3ecf054408487a18e503a47aa60": {
          "model_module": "@jupyter-widgets/base",
          "model_name": "LayoutModel",
          "model_module_version": "1.2.0",
          "state": {
            "_view_name": "LayoutView",
            "grid_template_rows": null,
            "right": null,
            "justify_content": null,
            "_view_module": "@jupyter-widgets/base",
            "overflow": null,
            "_model_module_version": "1.2.0",
            "_view_count": null,
            "flex_flow": null,
            "width": null,
            "min_width": null,
            "border": null,
            "align_items": null,
            "bottom": null,
            "_model_module": "@jupyter-widgets/base",
            "top": null,
            "grid_column": null,
            "overflow_y": null,
            "overflow_x": null,
            "grid_auto_flow": null,
            "grid_area": null,
            "grid_template_columns": null,
            "flex": null,
            "_model_name": "LayoutModel",
            "justify_items": null,
            "grid_row": null,
            "max_height": null,
            "align_content": null,
            "visibility": null,
            "align_self": null,
            "height": null,
            "min_height": null,
            "padding": null,
            "grid_auto_rows": null,
            "grid_gap": null,
            "max_width": null,
            "order": null,
            "_view_module_version": "1.2.0",
            "grid_template_areas": null,
            "object_position": null,
            "object_fit": null,
            "grid_auto_columns": null,
            "margin": null,
            "display": null,
            "left": null
          }
        },
        "8ee48489e0aa47108a54652828d57387": {
          "model_module": "@jupyter-widgets/controls",
          "model_name": "ProgressStyleModel",
          "model_module_version": "1.5.0",
          "state": {
            "_view_name": "StyleView",
            "_model_name": "ProgressStyleModel",
            "description_width": "",
            "_view_module": "@jupyter-widgets/base",
            "_model_module_version": "1.5.0",
            "_view_count": null,
            "_view_module_version": "1.2.0",
            "bar_color": null,
            "_model_module": "@jupyter-widgets/controls"
          }
        },
        "d42d81fca7df4dd9931982a81d2665d4": {
          "model_module": "@jupyter-widgets/base",
          "model_name": "LayoutModel",
          "model_module_version": "1.2.0",
          "state": {
            "_view_name": "LayoutView",
            "grid_template_rows": null,
            "right": null,
            "justify_content": null,
            "_view_module": "@jupyter-widgets/base",
            "overflow": null,
            "_model_module_version": "1.2.0",
            "_view_count": null,
            "flex_flow": null,
            "width": null,
            "min_width": null,
            "border": null,
            "align_items": null,
            "bottom": null,
            "_model_module": "@jupyter-widgets/base",
            "top": null,
            "grid_column": null,
            "overflow_y": null,
            "overflow_x": null,
            "grid_auto_flow": null,
            "grid_area": null,
            "grid_template_columns": null,
            "flex": null,
            "_model_name": "LayoutModel",
            "justify_items": null,
            "grid_row": null,
            "max_height": null,
            "align_content": null,
            "visibility": null,
            "align_self": null,
            "height": null,
            "min_height": null,
            "padding": null,
            "grid_auto_rows": null,
            "grid_gap": null,
            "max_width": null,
            "order": null,
            "_view_module_version": "1.2.0",
            "grid_template_areas": null,
            "object_position": null,
            "object_fit": null,
            "grid_auto_columns": null,
            "margin": null,
            "display": null,
            "left": null
          }
        },
        "fec7801815e04f7f98d9cec7fe3e1282": {
          "model_module": "@jupyter-widgets/controls",
          "model_name": "DescriptionStyleModel",
          "model_module_version": "1.5.0",
          "state": {
            "_view_name": "StyleView",
            "_model_name": "DescriptionStyleModel",
            "description_width": "",
            "_view_module": "@jupyter-widgets/base",
            "_model_module_version": "1.5.0",
            "_view_count": null,
            "_view_module_version": "1.2.0",
            "_model_module": "@jupyter-widgets/controls"
          }
        },
        "5204ce2a48b24beca8a79ef3760753d2": {
          "model_module": "@jupyter-widgets/base",
          "model_name": "LayoutModel",
          "model_module_version": "1.2.0",
          "state": {
            "_view_name": "LayoutView",
            "grid_template_rows": null,
            "right": null,
            "justify_content": null,
            "_view_module": "@jupyter-widgets/base",
            "overflow": null,
            "_model_module_version": "1.2.0",
            "_view_count": null,
            "flex_flow": null,
            "width": null,
            "min_width": null,
            "border": null,
            "align_items": null,
            "bottom": null,
            "_model_module": "@jupyter-widgets/base",
            "top": null,
            "grid_column": null,
            "overflow_y": null,
            "overflow_x": null,
            "grid_auto_flow": null,
            "grid_area": null,
            "grid_template_columns": null,
            "flex": null,
            "_model_name": "LayoutModel",
            "justify_items": null,
            "grid_row": null,
            "max_height": null,
            "align_content": null,
            "visibility": null,
            "align_self": null,
            "height": null,
            "min_height": null,
            "padding": null,
            "grid_auto_rows": null,
            "grid_gap": null,
            "max_width": null,
            "order": null,
            "_view_module_version": "1.2.0",
            "grid_template_areas": null,
            "object_position": null,
            "object_fit": null,
            "grid_auto_columns": null,
            "margin": null,
            "display": null,
            "left": null
          }
        }
      }
    }
  },
  "cells": [
    {
      "cell_type": "code",
      "metadata": {
        "colab": {
          "base_uri": "https://localhost:8080/"
        },
        "id": "87c2Dd9zyZBc",
        "outputId": "09b6b544-d49e-4467-f469-62370a8d10f2"
      },
      "source": [
        "from google.colab  import drive\n",
        "drive.mount('/content/drive')"
      ],
      "execution_count": null,
      "outputs": [
        {
          "output_type": "stream",
          "text": [
            "Drive already mounted at /content/drive; to attempt to forcibly remount, call drive.mount(\"/content/drive\", force_remount=True).\n"
          ],
          "name": "stdout"
        }
      ]
    },
    {
      "cell_type": "code",
      "metadata": {
        "id": "fFc2Ooxv0DYj",
        "colab": {
          "base_uri": "https://localhost:8080/"
        },
        "outputId": "83c35b8b-1345-40d8-af9f-b9b30d37b5dc"
      },
      "source": [
        "!nvidia-smi"
      ],
      "execution_count": null,
      "outputs": [
        {
          "output_type": "stream",
          "text": [
            "Sun Aug 15 00:36:57 2021       \n",
            "+-----------------------------------------------------------------------------+\n",
            "| NVIDIA-SMI 470.42.01    Driver Version: 460.32.03    CUDA Version: 11.2     |\n",
            "|-------------------------------+----------------------+----------------------+\n",
            "| GPU  Name        Persistence-M| Bus-Id        Disp.A | Volatile Uncorr. ECC |\n",
            "| Fan  Temp  Perf  Pwr:Usage/Cap|         Memory-Usage | GPU-Util  Compute M. |\n",
            "|                               |                      |               MIG M. |\n",
            "|===============================+======================+======================|\n",
            "|   0  Tesla V100-SXM2...  Off  | 00000000:00:04.0 Off |                    0 |\n",
            "| N/A   40C    P0    25W / 300W |      0MiB / 16160MiB |      0%      Default |\n",
            "|                               |                      |                  N/A |\n",
            "+-------------------------------+----------------------+----------------------+\n",
            "                                                                               \n",
            "+-----------------------------------------------------------------------------+\n",
            "| Processes:                                                                  |\n",
            "|  GPU   GI   CI        PID   Type   Process name                  GPU Memory |\n",
            "|        ID   ID                                                   Usage      |\n",
            "|=============================================================================|\n",
            "|  No running processes found                                                 |\n",
            "+-----------------------------------------------------------------------------+\n"
          ],
          "name": "stdout"
        }
      ]
    },
    {
      "cell_type": "code",
      "metadata": {
        "id": "sIAkUGlGndYL",
        "colab": {
          "base_uri": "https://localhost:8080/"
        },
        "outputId": "e09ea129-c4ab-45c0-d863-b5c118d504a4"
      },
      "source": [
        "import gc\n",
        "gc.collect()"
      ],
      "execution_count": null,
      "outputs": [
        {
          "output_type": "execute_result",
          "data": {
            "text/plain": [
              "109"
            ]
          },
          "metadata": {
            "tags": []
          },
          "execution_count": 3
        }
      ]
    },
    {
      "cell_type": "code",
      "metadata": {
        "id": "e8iokE-P95aD"
      },
      "source": [
        "# !cp -r /content/drive/MyDrive/SETI/new/seti_2layer1.zip ./\n",
        "# !unzip /content/seti_2layer1.zip\n",
        "# !rm /content/seti_2layer1.zip\n",
        "# gc.collect()\n",
        "# !cp -r /content/drive/MyDrive/SETI/new/seti_2layer2.zip ./\n",
        "# !unzip /content/seti_2layer2.zip\n",
        "# !rm /content/seti_2layer2.zip"
      ],
      "execution_count": null,
      "outputs": []
    },
    {
      "cell_type": "code",
      "metadata": {
        "id": "tt7Ydt0hlEK_"
      },
      "source": [
        "# !mv /content/content/train2/*  /content/content/\n",
        "# !rm -r /content/content/train2/\n",
        "# !mv /content/content/train3/*  /content/content/\n",
        "# !rm -r /content/content/train3/"
      ],
      "execution_count": null,
      "outputs": []
    },
    {
      "cell_type": "code",
      "metadata": {
        "id": "tHMs-Qc_X2fJ"
      },
      "source": [
        "# !cp -r /content/drive/MyDrive/SETI/new/train_labels.csv.zip \"/content\"\n",
        "# !cp -r /content/drive/MyDrive/SETI/new/sample_submission.csv \"/content\""
      ],
      "execution_count": null,
      "outputs": []
    },
    {
      "cell_type": "code",
      "metadata": {
        "id": "byYIXGxIImWo"
      },
      "source": [
        "# !unzip /content/train_labels.csv.zip\n",
        "# !rm /content/train_labels.csv.zip"
      ],
      "execution_count": null,
      "outputs": []
    },
    {
      "cell_type": "code",
      "metadata": {
        "id": "ouApcCXhcpXx",
        "colab": {
          "base_uri": "https://localhost:8080/"
        },
        "outputId": "a36927d5-4f95-4e8f-b66f-3c282d2fd6fe"
      },
      "source": [
        "!mv ./content ./train"
      ],
      "execution_count": null,
      "outputs": [
        {
          "output_type": "stream",
          "text": [
            "mv: cannot stat './content': No such file or directory\n"
          ],
          "name": "stdout"
        }
      ]
    },
    {
      "cell_type": "markdown",
      "metadata": {
        "id": "4bvgSy0KyVSu"
      },
      "source": [
        "# Prapere"
      ]
    },
    {
      "cell_type": "markdown",
      "metadata": {
        "id": "uK0EAwNayVSu"
      },
      "source": [
        "## Install"
      ]
    },
    {
      "cell_type": "code",
      "metadata": {
        "id": "J6AizZk2yVSu",
        "colab": {
          "base_uri": "https://localhost:8080/"
        },
        "outputId": "04f4d42f-a196-4f68-bf16-b040d12f845e"
      },
      "source": [
        "%%bash\n",
        "pip install pytorch-pfn-extras\n",
        "pip install timm==0.4.12"
      ],
      "execution_count": null,
      "outputs": [
        {
          "output_type": "stream",
          "text": [
            "Requirement already satisfied: pytorch-pfn-extras in /usr/local/lib/python3.7/dist-packages (0.4.5)\n",
            "Requirement already satisfied: torch in /usr/local/lib/python3.7/dist-packages (from pytorch-pfn-extras) (1.9.0+cu102)\n",
            "Requirement already satisfied: numpy in /usr/local/lib/python3.7/dist-packages (from pytorch-pfn-extras) (1.19.5)\n",
            "Requirement already satisfied: typing-extensions in /usr/local/lib/python3.7/dist-packages (from torch->pytorch-pfn-extras) (3.7.4.3)\n",
            "Requirement already satisfied: timm==0.4.12 in /usr/local/lib/python3.7/dist-packages (0.4.12)\n",
            "Requirement already satisfied: torch>=1.4 in /usr/local/lib/python3.7/dist-packages (from timm==0.4.12) (1.9.0+cu102)\n",
            "Requirement already satisfied: torchvision in /usr/local/lib/python3.7/dist-packages (from timm==0.4.12) (0.10.0+cu102)\n",
            "Requirement already satisfied: typing-extensions in /usr/local/lib/python3.7/dist-packages (from torch>=1.4->timm==0.4.12) (3.7.4.3)\n",
            "Requirement already satisfied: numpy in /usr/local/lib/python3.7/dist-packages (from torchvision->timm==0.4.12) (1.19.5)\n",
            "Requirement already satisfied: pillow>=5.3.0 in /usr/local/lib/python3.7/dist-packages (from torchvision->timm==0.4.12) (7.1.2)\n"
          ],
          "name": "stdout"
        }
      ]
    },
    {
      "cell_type": "markdown",
      "metadata": {
        "id": "sYH8Ha5cyVSv"
      },
      "source": [
        "## Import"
      ]
    },
    {
      "cell_type": "code",
      "metadata": {
        "id": "IeBxtbrlYSf6",
        "colab": {
          "base_uri": "https://localhost:8080/"
        },
        "outputId": "0010c92d-4c90-4485-d6da-1d7603c0b5d8"
      },
      "source": [
        "!pip install albumentations==0.4.6\n",
        "import albumentations \n",
        "from albumentations.pytorch import ToTensorV2\n",
        "!pip install adamp\n",
        "from adamp import AdamP"
      ],
      "execution_count": null,
      "outputs": [
        {
          "output_type": "stream",
          "text": [
            "Requirement already satisfied: albumentations==0.4.6 in /usr/local/lib/python3.7/dist-packages (0.4.6)\n",
            "Requirement already satisfied: PyYAML in /usr/local/lib/python3.7/dist-packages (from albumentations==0.4.6) (3.13)\n",
            "Requirement already satisfied: numpy>=1.11.1 in /usr/local/lib/python3.7/dist-packages (from albumentations==0.4.6) (1.19.5)\n",
            "Requirement already satisfied: imgaug>=0.4.0 in /usr/local/lib/python3.7/dist-packages (from albumentations==0.4.6) (0.4.0)\n",
            "Requirement already satisfied: scipy in /usr/local/lib/python3.7/dist-packages (from albumentations==0.4.6) (1.4.1)\n",
            "Requirement already satisfied: opencv-python>=4.1.1 in /usr/local/lib/python3.7/dist-packages (from albumentations==0.4.6) (4.1.2.30)\n",
            "Requirement already satisfied: six in /usr/local/lib/python3.7/dist-packages (from imgaug>=0.4.0->albumentations==0.4.6) (1.15.0)\n",
            "Requirement already satisfied: Shapely in /usr/local/lib/python3.7/dist-packages (from imgaug>=0.4.0->albumentations==0.4.6) (1.7.1)\n",
            "Requirement already satisfied: imageio in /usr/local/lib/python3.7/dist-packages (from imgaug>=0.4.0->albumentations==0.4.6) (2.4.1)\n",
            "Requirement already satisfied: matplotlib in /usr/local/lib/python3.7/dist-packages (from imgaug>=0.4.0->albumentations==0.4.6) (3.2.2)\n",
            "Requirement already satisfied: Pillow in /usr/local/lib/python3.7/dist-packages (from imgaug>=0.4.0->albumentations==0.4.6) (7.1.2)\n",
            "Requirement already satisfied: scikit-image>=0.14.2 in /usr/local/lib/python3.7/dist-packages (from imgaug>=0.4.0->albumentations==0.4.6) (0.16.2)\n",
            "Requirement already satisfied: networkx>=2.0 in /usr/local/lib/python3.7/dist-packages (from scikit-image>=0.14.2->imgaug>=0.4.0->albumentations==0.4.6) (2.6.2)\n",
            "Requirement already satisfied: PyWavelets>=0.4.0 in /usr/local/lib/python3.7/dist-packages (from scikit-image>=0.14.2->imgaug>=0.4.0->albumentations==0.4.6) (1.1.1)\n",
            "Requirement already satisfied: python-dateutil>=2.1 in /usr/local/lib/python3.7/dist-packages (from matplotlib->imgaug>=0.4.0->albumentations==0.4.6) (2.8.2)\n",
            "Requirement already satisfied: pyparsing!=2.0.4,!=2.1.2,!=2.1.6,>=2.0.1 in /usr/local/lib/python3.7/dist-packages (from matplotlib->imgaug>=0.4.0->albumentations==0.4.6) (2.4.7)\n",
            "Requirement already satisfied: cycler>=0.10 in /usr/local/lib/python3.7/dist-packages (from matplotlib->imgaug>=0.4.0->albumentations==0.4.6) (0.10.0)\n",
            "Requirement already satisfied: kiwisolver>=1.0.1 in /usr/local/lib/python3.7/dist-packages (from matplotlib->imgaug>=0.4.0->albumentations==0.4.6) (1.3.1)\n",
            "Requirement already satisfied: adamp in /usr/local/lib/python3.7/dist-packages (0.3.0)\n"
          ],
          "name": "stdout"
        }
      ]
    },
    {
      "cell_type": "code",
      "metadata": {
        "id": "9F3DCZkuyVSv"
      },
      "source": [
        "import os\n",
        "import gc\n",
        "import copy \n",
        "import yaml\n",
        "import random\n",
        "import shutil\n",
        "import typing as tp\n",
        "import cv2\n",
        "from pathlib import Path\n",
        "\n",
        "import numpy as np\n",
        "import pandas as pd\n",
        "\n",
        "from tqdm.notebook import tqdm\n",
        "from sklearn.model_selection import StratifiedKFold\n",
        "from sklearn.metrics import roc_auc_score\n",
        "import matplotlib.pyplot as plt\n",
        "\n",
        "import torch\n",
        "from torch import nn\n",
        "from torch import optim\n",
        "from torch.optim import lr_scheduler\n",
        "from torch.cuda import amp\n",
        "\n",
        "import timm\n",
        "\n",
        "import albumentations as A\n",
        "# from albumentations.pytorch import ToTensorV2\n",
        "\n",
        "import pytorch_pfn_extras as ppe\n",
        "from pytorch_pfn_extras.config import Config\n",
        "from pytorch_pfn_extras.training import extensions as ppe_exts, triggers as ppe_triggers"
      ],
      "execution_count": null,
      "outputs": []
    },
    {
      "cell_type": "code",
      "metadata": {
        "id": "MN1NczonyVSw"
      },
      "source": [
        "ROOT = Path.cwd().parent\n",
        "INPUT = ROOT / \"content\"\n",
        "OUTPUT = ROOT / \"output\"\n",
        "# DATA = INPUT / \"seti-breakthrough-listen\"\n",
        "DATA = INPUT / \"\"\n",
        "TRAIN = DATA / \"train\"\n",
        "TEST = DATA / \"test\"\n",
        "\n",
        "TMP = ROOT / \"tmp\"\n",
        "TMP.mkdir(exist_ok=True)\n",
        "\n",
        "RANDOM_SEED = 1086\n",
        "CLASSES = [\"target\",]\n",
        "N_CLASSES = len(CLASSES)\n",
        "\n",
        "#FOLDS = [0, 1, 2, 3, 4]\n",
        "#N_FOLDS = len(FOLDS)\n",
        "\n",
        "FOLDS = [0]\n",
        "N_FOLDS = 5"
      ],
      "execution_count": null,
      "outputs": []
    },
    {
      "cell_type": "markdown",
      "metadata": {
        "id": "tXrrHowZyVSw"
      },
      "source": [
        "## Read Data, Split folds"
      ]
    },
    {
      "cell_type": "code",
      "metadata": {
        "id": "at80MhVjyVSx"
      },
      "source": [
        "train = pd.read_csv(DATA / \"train_labels.csv\")\n",
        "smpl_sub = pd.read_csv(DATA / \"sample_submission.csv\")"
      ],
      "execution_count": null,
      "outputs": []
    },
    {
      "cell_type": "code",
      "metadata": {
        "id": "XspT_hvRyVSx"
      },
      "source": [
        "skf = StratifiedKFold(n_splits=N_FOLDS, shuffle=True, random_state=RANDOM_SEED)\n",
        "train[\"fold\"] = -1\n",
        "for fold_id, (_, val_idx) in enumerate(skf.split(train[\"id\"], train[\"target\"])):\n",
        "    train.loc[val_idx, \"fold\"] = fold_id"
      ],
      "execution_count": null,
      "outputs": []
    },
    {
      "cell_type": "code",
      "metadata": {
        "id": "0npls1d6yVSy",
        "colab": {
          "base_uri": "https://localhost:8080/",
          "height": 235
        },
        "outputId": "42094113-edc3-43ee-e2a5-f0af18d8894d"
      },
      "source": [
        "train.groupby(\"fold\").agg(total=(\"id\", len), pos=(\"target\", sum))"
      ],
      "execution_count": null,
      "outputs": [
        {
          "output_type": "execute_result",
          "data": {
            "text/html": [
              "<div>\n",
              "<style scoped>\n",
              "    .dataframe tbody tr th:only-of-type {\n",
              "        vertical-align: middle;\n",
              "    }\n",
              "\n",
              "    .dataframe tbody tr th {\n",
              "        vertical-align: top;\n",
              "    }\n",
              "\n",
              "    .dataframe thead th {\n",
              "        text-align: right;\n",
              "    }\n",
              "</style>\n",
              "<table border=\"1\" class=\"dataframe\">\n",
              "  <thead>\n",
              "    <tr style=\"text-align: right;\">\n",
              "      <th></th>\n",
              "      <th>total</th>\n",
              "      <th>pos</th>\n",
              "    </tr>\n",
              "    <tr>\n",
              "      <th>fold</th>\n",
              "      <th></th>\n",
              "      <th></th>\n",
              "    </tr>\n",
              "  </thead>\n",
              "  <tbody>\n",
              "    <tr>\n",
              "      <th>0</th>\n",
              "      <td>12000</td>\n",
              "      <td>1200</td>\n",
              "    </tr>\n",
              "    <tr>\n",
              "      <th>1</th>\n",
              "      <td>12000</td>\n",
              "      <td>1200</td>\n",
              "    </tr>\n",
              "    <tr>\n",
              "      <th>2</th>\n",
              "      <td>12000</td>\n",
              "      <td>1200</td>\n",
              "    </tr>\n",
              "    <tr>\n",
              "      <th>3</th>\n",
              "      <td>12000</td>\n",
              "      <td>1200</td>\n",
              "    </tr>\n",
              "    <tr>\n",
              "      <th>4</th>\n",
              "      <td>12000</td>\n",
              "      <td>1200</td>\n",
              "    </tr>\n",
              "  </tbody>\n",
              "</table>\n",
              "</div>"
            ],
            "text/plain": [
              "      total   pos\n",
              "fold             \n",
              "0     12000  1200\n",
              "1     12000  1200\n",
              "2     12000  1200\n",
              "3     12000  1200\n",
              "4     12000  1200"
            ]
          },
          "metadata": {
            "tags": []
          },
          "execution_count": 15
        }
      ]
    },
    {
      "cell_type": "markdown",
      "metadata": {
        "id": "9FIZrvonyVSy"
      },
      "source": [
        "## Definition of Model, Dataset, Metric"
      ]
    },
    {
      "cell_type": "code",
      "metadata": {
        "id": "IhHIA5xnnvY2"
      },
      "source": [
        "def get_activation(activ_name: str=\"relu\"):\n",
        "    \"\"\"\"\"\"\n",
        "    act_dict = {\n",
        "        \"relu\": nn.ReLU(inplace=True),\n",
        "        \"tanh\": nn.Tanh(),\n",
        "        \"sigmoid\": nn.Sigmoid(),\n",
        "        \"identity\": nn.Identity()}\n",
        "    if activ_name in act_dict:\n",
        "        return act_dict[activ_name]\n",
        "    else:\n",
        "        raise NotImplementedError\n",
        "        \n",
        "\n",
        "class Conv2dBNActiv(nn.Module):\n",
        "    \"\"\"Conv2d -> (BN ->) -> Activation\"\"\"\n",
        "    \n",
        "    def __int__(\n",
        "        self, in_channels: int, out_channels: int,\n",
        "        kernel_size: int, stride: int=1, padding: int=0,\n",
        "        bias: bool=False, use_bn: bool=True, activ: str=\"relu\"\n",
        "    ):\n",
        "        \"\"\"\"\"\"\n",
        "        super(Conv2dBNActiv, self).__init__()\n",
        "        layers = []\n",
        "        layers.append(nn.Conv2d(\n",
        "            in_channels, out_channels,\n",
        "            kernel_size, stride, padding, bias=bias))\n",
        "        if use_bn:\n",
        "            layers.append(nn.BatchNorm2d(out_channels))\n",
        "            # layers.append(GroupNorm2d(out_channels))              #Group normalisation\n",
        "            \n",
        "        layers.append(get_activation(activ))\n",
        "        self.layers = nn.Sequential(*layers)\n",
        "        \n",
        "    def forward(self, x):\n",
        "        \"\"\"Forward\"\"\"\n",
        "        return self.layers(x)\n",
        "        \n",
        "\n",
        "class SSEBlock(nn.Module):\n",
        "    \"\"\"channel `S`queeze and `s`patial `E`xcitation Block.\"\"\"\n",
        "\n",
        "    def __init__(self, in_channels: int):\n",
        "        \"\"\"Initialize.\"\"\"\n",
        "        super(SSEBlock, self).__init__()\n",
        "        self.channel_squeeze = nn.Conv1d(\n",
        "            in_channels=in_channels, out_channels=1,\n",
        "            kernel_size=1, stride=1, padding=0, bias=False)\n",
        "        self.sigmoid = nn.Sigmoid()\n",
        "\n",
        "    def forward(self, x):\n",
        "        \"\"\"Forward.\"\"\"\n",
        "        # # x: (bs, ch, h, w) => h: (bs, 1, h, w)\n",
        "        h = self.sigmoid(x)\n",
        "        # # x, h => return: (bs, ch, h, w)\n",
        "        return x * h\n",
        "    \n",
        "    \n",
        "sigmoid = torch.nn.Sigmoid()\n",
        "\n",
        "\n",
        "class Swish(torch.autograd.Function):\n",
        "    @staticmethod\n",
        "    def forward(ctx, i):\n",
        "        result = i * sigmoid(i)\n",
        "        ctx.save_for_backward(i)\n",
        "        return result\n",
        "\n",
        "    @staticmethod\n",
        "    def backward(ctx, grad_output):\n",
        "        # i = ctx.saved_variables[0]\n",
        "        i = ctx.saved_tensors[0]\n",
        "        sigmoid_i = sigmoid(i)\n",
        "        return grad_output * (sigmoid_i * (1 + i * (1 - sigmoid_i)))\n",
        "\n",
        "\n",
        "class Swish_Module(torch.nn.Module):\n",
        "    def forward(self, x):\n",
        "        return Swish.apply(x)\n",
        "\n",
        "class eca_layer(nn.Module):\n",
        "    \"\"\"Constructs a ECA module.\n",
        "    Args:\n",
        "        channel: Number of channels of the input feature map\n",
        "        k_size: Adaptive selection of kernel size\n",
        "    \"\"\"\n",
        "    def __init__(self, channel, k_size=3):\n",
        "        super(eca_layer, self).__init__()\n",
        "        self.avg_pool = nn.AdaptiveAvgPool2d(1)\n",
        "        self.conv = nn.Conv1d(1, 1, kernel_size=k_size, padding=(k_size - 1) // 2, bias=False) \n",
        "        self.sigmoid = nn.Sigmoid()\n",
        "\n",
        "    def forward(self, x):\n",
        "        # feature descriptor on the global spatial information\n",
        "        y = self.avg_pool(x)\n",
        "\n",
        "        # # Two different branches of ECA module\n",
        "        # y = self.conv(y.squeeze(-1).transpose(-1, -2)).transpose(-1, -2).unsqueeze(-1)\n",
        "\n",
        "        # Multi-scale information fusion\n",
        "        y = self.sigmoid(y)\n",
        "\n",
        "        return x * y.expand_as(x)\n",
        "\n",
        "\n",
        "def random_power(images, power = 1.5, c= 0.7):\n",
        "    images = images - images.min()\n",
        "    images = images/(images.max()+0.0000001)\n",
        "    images = images**(random.random()*power + c)\n",
        "    return images"
      ],
      "execution_count": null,
      "outputs": []
    },
    {
      "cell_type": "markdown",
      "metadata": {
        "id": "MOdiczwIyVSz"
      },
      "source": [
        "### Model"
      ]
    },
    {
      "cell_type": "code",
      "metadata": {
        "id": "Fc1y1Nw3yVSz"
      },
      "source": [
        "class BasicImageModel(nn.Module):\n",
        "    \n",
        "    def __init__(\n",
        "        self, base_name: str, dims_head: tp.List[int],\n",
        "        pretrained=False, in_channels: int=3\n",
        "    ):\n",
        "        \"\"\"Initialize\"\"\"\n",
        "        self.base_name = base_name\n",
        "        super(BasicImageModel, self).__init__()\n",
        "        self.activation = Swish_Module()\n",
        "        \n",
        "        # # prepare backbone\n",
        "        if hasattr(timm.models, base_name):\n",
        "            base_model = timm.create_model(\n",
        "                base_name, num_classes=0, pretrained=pretrained, in_chans=in_channels)\n",
        "            in_features = base_model.num_features\n",
        "            print(\"load imagenet pretrained:\", pretrained)\n",
        "        else:\n",
        "            raise NotImplementedError\n",
        "\n",
        "        self.backbone = base_model\n",
        "        print(f\"{base_name}: {in_features}\")\n",
        "        \n",
        "        # # prepare head clasifier\n",
        "        if dims_head[0] is None:\n",
        "            dims_head[0] = in_features\n",
        "\n",
        "        # layers_list = []\n",
        "        # for i in range(len(dims_head) - 2):\n",
        "        #     in_dim, out_dim = dims_head[i: i + 2]\n",
        "        #     layers_list.extend([\n",
        "        #         nn.Linear(in_dim, out_dim),\n",
        "        #         nn.ReLU(), nn.Dropout(0.5),])\n",
        "        # layers_list.append(\n",
        "        #     nn.Linear(dims_head[-2], dims_head[-1]))\n",
        "        # self.head_cls = nn.Sequential(*layers_list)\n",
        "\n",
        "        # for i in range(len(dims_head) - 2):\n",
        "        #     in_dim, out_dim = dims_head[i: i + 2]\n",
        "\n",
        "\n",
        "        self.head_cls = nn.Sequential(\n",
        "            # SpatialAttentionBlock(in_features, [64, 32, 16, 1]),\n",
        "            # eca_layer(1,3),\n",
        "            # nn.AdaptiveAvgPool1d(output_size=1),\n",
        "            # nn.Flatten(start_dim=1),\n",
        "              nn.Linear(in_features, in_features),\n",
        "              self.activation,\n",
        "              nn.ReLU(inplace=True),\n",
        "              nn.Dropout(0.5),\n",
        "              nn.Linear(in_features, 1))\n",
        "        \n",
        "        # layers_list = []\n",
        "        # for i in range(len(dims_head) - 2):\n",
        "        #     in_dim, out_dim = dims_head[i: i + 2]\n",
        "        #     layers_list.extend([\n",
        "        #         nn.Linear(in_dim, out_dim),\n",
        "        #         nn.ReLU(), nn.Dropout(0.5),])\n",
        "        # layers_list.append(\n",
        "        #         SpatialAttentionBlock(in_features, [64, 32, 16, 1]),\n",
        "        #         nn.AdaptiveAvgPool2d(output_size=1),\n",
        "        #         nn.Flatten(start_dim=1),\n",
        "        #         nn.Linear(dims_head[-2], dims_head[-1]))\n",
        "        # self.head_cls = nn.Sequential(*layers_list)\n",
        "\n",
        "    def forward(self, x):\n",
        "        \"\"\"Forward\"\"\"\n",
        "        h = self.backbone(x)\n",
        "        h = self.head_cls(h)\n",
        "        return h"
      ],
      "execution_count": null,
      "outputs": []
    },
    {
      "cell_type": "markdown",
      "metadata": {
        "id": "9vMkyHQgsh8p"
      },
      "source": [
        "# Hide"
      ]
    },
    {
      "cell_type": "code",
      "metadata": {
        "id": "c_gRD6Z0uQTZ"
      },
      "source": [
        "from sklearn.decomposition import NMF\n",
        "from sklearn.preprocessing import normalize\n",
        "def show_cleaned_image_individually(image):\n",
        "    image_on = None\n",
        "    image_off = None\n",
        "    clean_image = None\n",
        "    \n",
        "    for i in range(0,6,2):\n",
        "        temp_on = image[i]\n",
        "        temp_off = image[i+1]\n",
        "        \n",
        "        temp_on = temp_on + 50\n",
        "        temp_off = temp_off + 50\n",
        "        \n",
        "        model = NMF(init = 'random',\n",
        "                    n_components = 2,\n",
        "                    solver = 'mu',\n",
        "                    alpha = 0.01,\n",
        "                    random_state = 0,\n",
        "                   )\n",
        "        \n",
        "        W_on = model.fit_transform(temp_on)\n",
        "        H_on = model.components_\n",
        "\n",
        "        W_off = model.fit_transform(temp_off)\n",
        "        H_off = model.components_\n",
        "        \n",
        "        temp_clean = normalize(temp_on - np.matmul(W_on, H_off))\n",
        "        \n",
        "        if image_off is None:\n",
        "            image_off = image[i+1]\n",
        "        else:\n",
        "            image_off = np.concatenate((image_off, image[i+1]))\n",
        "\n",
        "        if image_on is None:\n",
        "            image_on = image[i]\n",
        "        else:\n",
        "            image_on = np.concatenate((image_on, image[i]))\n",
        "            \n",
        "        if clean_image is None:\n",
        "            clean_image = temp_clean\n",
        "        else:\n",
        "            clean_image = np.concatenate((clean_image, temp_clean))\n",
        "\n",
        "    return clean_image"
      ],
      "execution_count": null,
      "outputs": []
    },
    {
      "cell_type": "markdown",
      "metadata": {
        "id": "P0FqwIQByVSz"
      },
      "source": [
        "# Dataset"
      ]
    },
    {
      "cell_type": "code",
      "metadata": {
        "id": "kfJyz2OkyVS0"
      },
      "source": [
        "FilePath = tp.Union[str, Path]\n",
        "Label = tp.Union[int, float, np.ndarray]\n",
        "\n",
        "class SetiSimpleDataset(torch.utils.data.Dataset):\n",
        "    \"\"\"\n",
        "    Dataset using 6 channels by stacking them along time-axis\n",
        "\n",
        "    Attributes\n",
        "    ----------\n",
        "    paths : tp.Sequence[FilePath]\n",
        "        Sequence of path to cadence snippet file\n",
        "    labels : tp.Sequence[Label]\n",
        "        Sequence of label for cadence snippet file\n",
        "    transform: albumentations.Compose\n",
        "        composed data augmentations for data\n",
        "    \"\"\"\n",
        "\n",
        "    def __init__(\n",
        "        self,\n",
        "        paths: tp.Sequence[FilePath],\n",
        "        labels: tp.Sequence[Label],\n",
        "        transform: A.Compose,\n",
        "    ):\n",
        "        \"\"\"Initialize\"\"\"\n",
        "        self.paths = paths\n",
        "        self.labels = labels\n",
        "        self.transform = transform\n",
        "\n",
        "    def __len__(self):\n",
        "        \"\"\"Return num of cadence snippets\"\"\"\n",
        "        return len(self.paths)\n",
        "\n",
        "    def __getitem__(self, index: int):\n",
        "        \"\"\"Return transformed image and label for given index.\"\"\"\n",
        "        path, label = self.paths[index], self.labels[index]\n",
        "        img = self._read_cadence_array(path)\n",
        "        img = self.transform(image=img)[\"image\"]\n",
        "        return {\"image\": img, \"target\": label}\n",
        "\n",
        "    def _read_cadence_array(self, path: Path):\n",
        "        \"\"\"Read cadence file and reshape\"\"\"\n",
        "        img = np.load(path)  # shape: (6, 273, 256)\n",
        "        img = np.vstack(img)  # shape: (1638, 256)\n",
        "        img = img.transpose(1, 0)  # shape: (256, 1638)\n",
        "        img = img.astype(\"f\")[..., np.newaxis]  # shape: (256, 1638, 1)\n",
        "        return img\n",
        "\n",
        "    def lazy_init(self, paths=None, labels=None, transform=None):\n",
        "        \"\"\"Reset Members\"\"\"\n",
        "        if paths is not None:\n",
        "            self.paths = paths\n",
        "        if labels is not None:\n",
        "            self.labels = labels\n",
        "        if transform is not None:\n",
        "            self.transform = transform\n",
        "\n",
        "class SetiAObsDataset(SetiSimpleDataset):\n",
        "    \"\"\"Use only on-target observation\"\"\"\n",
        "\n",
        "    def _read_cadence_array(self, path: Path):\n",
        "        \"\"\"Read cadence file and reshape\"\"\"\n",
        "        img = np.load(path)\n",
        "\n",
        "        \n",
        "        # img = np.load(path)[[0, 2, 4]]  # shape: (3, 273, 256)\n",
        "        # # flip = (np.flip(img,1))\n",
        "        # img = np.vstack(img)     # shape: (819, 256)\n",
        "        # # flip = np.vstack(flip)\n",
        "        # # img = np.hstack((img,flip))\n",
        "        # img = img.transpose(1, 0)       # shape: (256, 819)  \n",
        "        # # img = (img - np.min(img))/np.ptp(img)\n",
        "        # # Clip    \n",
        "        # # img   = ((np.clip(img, -1, 3) + 1) / 4 * 255).astype(np.uint8)\n",
        "        # img   = ((np.clip(img, -3, 3) + 3) / 6 * 255).astype(np.uint8)\n",
        "        \n",
        "        \n",
        "        # img2 = np.load(path)[[1, 3, 5]]  # shape: (3, 273, 256)\n",
        "        # # flip2 = (np.flip(img2,1))\n",
        "        # img2 = np.vstack(img2)     # shape: (819, 256)\n",
        "        # # flip2 = np.vstack(flip2)\n",
        "        # # img2 = np.hstack((img2,flip2))\n",
        "        # img2 = img2.transpose(1, 0)  # shape: (256, 819)  \n",
        "        # # img2 = (img - np.min(img))/np.ptp(img)\n",
        "        # # Clip \n",
        "        # img2   = ((np.clip(img2, -3, 3) + 3) / 6 * 255).astype(np.uint8)\n",
        "\n",
        "        # # img3 = np.load(path)[[0,1,2,3,4,5]] \n",
        "        # # img3 = np.vstack(img3)\n",
        "        # # img3 = img3.transpose(1,0)\n",
        "        # # img3 = ((np.clip(img3, -1, 3) + 1) / 4 * 255).astype(np.uint8)\n",
        "\n",
        "        #ch1 = img[:,:,0]\n",
        "        #ch2 = img[:,:,1]\n",
        "        #ch3 = ch1 - ch2\n",
        "        #img3 = ((np.clip(img3, min, max) -min) /(max - min) * 255).astype(np.uint8)\n",
        "        # img = np.stack([ch1, ch2, ch3], axis = 2)\n",
        "        img = img.astype(\"f\")\n",
        "        return img"
      ],
      "execution_count": null,
      "outputs": []
    },
    {
      "cell_type": "markdown",
      "metadata": {
        "id": "-CdDEEOOyVS0"
      },
      "source": [
        "### Metric"
      ]
    },
    {
      "cell_type": "code",
      "metadata": {
        "id": "Qv3--6I0yVS1"
      },
      "source": [
        "Batch = tp.Union[tp.Tuple[torch.Tensor], tp.Dict[str, torch.Tensor]]\n",
        "ModelOut = tp.Union[tp.Tuple[torch.Tensor], tp.Dict[str, torch.Tensor], torch.Tensor]\n",
        "\n",
        "\n",
        "class ROCAUC(nn.Module):\n",
        "    \"\"\"ROC AUC score\"\"\"\n",
        "\n",
        "    def __init__(self, average=\"macro\") -> None:\n",
        "        \"\"\"Initialize.\"\"\"\n",
        "        self.average = average\n",
        "        super(ROCAUC, self).__init__()\n",
        "\n",
        "    def forward(self, y, t) -> float:\n",
        "        \"\"\"Forward.\"\"\"\n",
        "        if isinstance(y, torch.Tensor):\n",
        "            y = y.detach().cpu().numpy()\n",
        "        if isinstance(t, torch.Tensor):\n",
        "            t = t.detach().cpu().numpy()\n",
        "\n",
        "        return roc_auc_score(t, y, average=self.average)\n",
        "\n",
        "\n",
        "def micro_average(\n",
        "    metric_func: nn.Module,\n",
        "    report_name: str, prefix=\"val\",\n",
        "    pred_index: int=-1, label_index: int=-1,\n",
        "    pred_key: str=\"logit\", label_key: str=\"target\",\n",
        ") -> tp.Callable:\n",
        "    \"\"\"Return Metric Wrapper for Simple Mean Metric\"\"\"\n",
        "    metric_sum = [0.]\n",
        "    n_examples = [0]\n",
        "    \n",
        "    def wrapper(batch: Batch, model_output: ModelOut, is_last_batch: bool):\n",
        "        \"\"\"Wrapping metric function for evaluation\"\"\"\n",
        "        if isinstance(batch, tuple): \n",
        "            t = batch[label_index]\n",
        "        elif isinstance(batch, dict):\n",
        "            t = batch[label_key]\n",
        "        else:\n",
        "            raise NotImplementedError\n",
        "\n",
        "        if isinstance(model_output, tuple):\n",
        "            y = model_output[pred_index]\n",
        "        elif isinstance(model_output, dict):\n",
        "            y = model_output[pred_key]\n",
        "        else:\n",
        "            y = model_output\n",
        "\n",
        "        metric = metric_func(y, t).item()\n",
        "        metric_sum[0] += metric * y.shape[0]\n",
        "        n_examples[0] += y.shape[0]\n",
        "\n",
        "        if is_last_batch:\n",
        "            final_metric = metric_sum[0] / n_examples[0]\n",
        "            ppe.reporting.report({f\"{prefix}/{report_name}\": final_metric})\n",
        "            # # reset state\n",
        "            metric_sum[0] = 0.\n",
        "            n_examples[0] = 0\n",
        "\n",
        "    return wrapper\n",
        "\n",
        "\n",
        "def calc_across_all_batchs(\n",
        "    metric_func: nn.Module,\n",
        "    report_name: str, prefix=\"val\",\n",
        "    pred_index: int=-1, label_index: int=-1,\n",
        "    pred_key: str=\"logit\", label_key: str=\"target\",\n",
        ") -> tp.Callable:\n",
        "    \"\"\"\n",
        "    Return Metric Wrapper for Metrics caluculated on all data\n",
        "    \n",
        "    storing predictions and labels of evry batch, finally calculating metric on them.\n",
        "    \"\"\"\n",
        "    pred_list = []\n",
        "    label_list = []\n",
        "    \n",
        "    def wrapper(batch: Batch, model_output: ModelOut, is_last_batch: bool):\n",
        "        \"\"\"Wrapping metric function for evaluation\"\"\"\n",
        "        if isinstance(batch, tuple):\n",
        "            t = batch[label_index]\n",
        "        elif isinstance(batch, dict):\n",
        "            t = batch[label_key]\n",
        "        else:\n",
        "            raise NotImplementedError\n",
        "\n",
        "        if isinstance(model_output, tuple):\n",
        "            y = model_output[pred_index]\n",
        "        elif isinstance(model_output, dict):\n",
        "            y = model_output[pred_key]\n",
        "        else:\n",
        "            y = model_output\n",
        "\n",
        "        pred_list.append(y.numpy())\n",
        "        label_list.append(t.numpy())\n",
        "\n",
        "        if is_last_batch:\n",
        "            pred = np.concatenate(pred_list, axis=0)\n",
        "            label = np.concatenate(label_list, axis=0)\n",
        "            final_metric = metric_func(pred, label)\n",
        "            ppe.reporting.report({f\"{prefix}/{report_name}\": final_metric})\n",
        "            # # reset state\n",
        "            pred_list[:] = []\n",
        "            label_list[:] = []\n",
        "\n",
        "    return wrapper"
      ],
      "execution_count": null,
      "outputs": []
    },
    {
      "cell_type": "markdown",
      "metadata": {
        "id": "5_YqLjrPyVS3"
      },
      "source": [
        "# Train"
      ]
    },
    {
      "cell_type": "markdown",
      "metadata": {
        "id": "JRSYCEUKyVS3"
      },
      "source": [
        "## config_types for evaluating configuration\n",
        "\n",
        "I use [pytorch-pfn-extras](https://github.com/pfnet/pytorch-pfn-extras) for training NNs. This library has useful config systems but requires some preparation.\n",
        "\n",
        "For more details, see [docs](https://github.com/pfnet/pytorch-pfn-extras/blob/master/docs/config.md)."
      ]
    },
    {
      "cell_type": "code",
      "metadata": {
        "id": "DYdhhxkDyVS4"
      },
      "source": [
        "CONFIG_TYPES = {\n",
        "    # # utils\n",
        "    \"__len__\": lambda obj: len(obj),\n",
        "    \"method_call\": lambda obj, method: getattr(obj, method)(),\n",
        "\n",
        "    # # Dataset, DataLoader\n",
        "    \"SetiSimpleDataset\": SetiSimpleDataset,\n",
        "    \"SetiAObsDataset\": SetiAObsDataset,\n",
        "    \"DataLoader\": torch.utils.data.DataLoader,\n",
        "\n",
        "    # # Data Augmentation\n",
        "    \"Compose\": A.Compose, \"OneOf\": A.OneOf,\n",
        "    \"Resize\": A.Resize,\n",
        "    \"HorizontalFlip\": A.HorizontalFlip, \"VerticalFlip\": A.VerticalFlip,\n",
        "    # \"ShiftScaleRotate\": A.ShiftScaleRotate,\n",
        "    # \"IAAAffine\": A.IAAAffine, \n",
        "    # \"RandomResizedCrop\": A.RandomResizedCrop,\n",
        "    \"Cutout\": A.Cutout,\n",
        "    # \"Normalize\": A.Normalize,\n",
        "    \"ToTensorV2\": ToTensorV2,\n",
        "\n",
        "    # # Model\n",
        "    \"BasicImageModel\": BasicImageModel,\n",
        "\n",
        "    # # Optimizer\n",
        "    \"AdamW\": optim.AdamW,\n",
        "    # \"Adam\": optim.Adam,\n",
        "    # \"AdamP\": AdamP,\n",
        "\n",
        "    # # Scheduler\n",
        "    \"OneCycleLR\": lr_scheduler.OneCycleLR,\n",
        "\n",
        "    # # Loss,Metric\n",
        "    \"BCEWithLogitsLoss\": nn.BCEWithLogitsLoss,\n",
        "    \"ROCAUC\": ROCAUC,\n",
        "\n",
        "    # # Metric Wrapper\n",
        "    \"micro_average\": micro_average,\n",
        "    \"calc_across_all_batchs\": calc_across_all_batchs,\n",
        "\n",
        "    # # PPE Extensions\n",
        "    \"ExtensionsManager\": ppe.training.ExtensionsManager,\n",
        "\n",
        "    \"observe_lr\": ppe_exts.observe_lr,\n",
        "    \"LogReport\": ppe_exts.LogReport,\n",
        "    \"PlotReport\": ppe_exts.PlotReport,\n",
        "    \"PrintReport\": ppe_exts.PrintReport,\n",
        "    \"PrintReportNotebook\": ppe_exts.PrintReportNotebook,\n",
        "    \"ProgressBar\": ppe_exts.ProgressBar,\n",
        "    \"ProgressBarNotebook\": ppe_exts.ProgressBarNotebook,\n",
        "    \"snapshot\": ppe_exts.snapshot,\n",
        "    \"LRScheduler\": ppe_exts.LRScheduler, \n",
        "\n",
        "    \"MinValueTrigger\": ppe_triggers.MinValueTrigger,\n",
        "    \"MaxValueTrigger\": ppe_triggers.MaxValueTrigger,\n",
        "    \"EarlyStoppingTrigger\": ppe_triggers.EarlyStoppingTrigger,\n",
        "}"
      ],
      "execution_count": null,
      "outputs": []
    },
    {
      "cell_type": "markdown",
      "metadata": {
        "id": "f6eNoQ8hyVS5"
      },
      "source": [
        "## configration"
      ]
    },
    {
      "cell_type": "code",
      "metadata": {
        "id": "QW3ubitNxw3X",
        "colab": {
          "base_uri": "https://localhost:8080/"
        },
        "outputId": "e7b76a8b-3153-4e05-fb55-ec29b980279d"
      },
      "source": [
        "timm.list_models()"
      ],
      "execution_count": null,
      "outputs": [
        {
          "output_type": "execute_result",
          "data": {
            "text/plain": [
              "['adv_inception_v3',\n",
              " 'bat_resnext26ts',\n",
              " 'botnet26t_256',\n",
              " 'botnet50ts_256',\n",
              " 'cait_m36_384',\n",
              " 'cait_m48_448',\n",
              " 'cait_s24_224',\n",
              " 'cait_s24_384',\n",
              " 'cait_s36_384',\n",
              " 'cait_xs24_384',\n",
              " 'cait_xxs24_224',\n",
              " 'cait_xxs24_384',\n",
              " 'cait_xxs36_224',\n",
              " 'cait_xxs36_384',\n",
              " 'coat_lite_mini',\n",
              " 'coat_lite_small',\n",
              " 'coat_lite_tiny',\n",
              " 'coat_mini',\n",
              " 'coat_tiny',\n",
              " 'convit_base',\n",
              " 'convit_small',\n",
              " 'convit_tiny',\n",
              " 'cspdarknet53',\n",
              " 'cspdarknet53_iabn',\n",
              " 'cspresnet50',\n",
              " 'cspresnet50d',\n",
              " 'cspresnet50w',\n",
              " 'cspresnext50',\n",
              " 'cspresnext50_iabn',\n",
              " 'darknet53',\n",
              " 'deit_base_distilled_patch16_224',\n",
              " 'deit_base_distilled_patch16_384',\n",
              " 'deit_base_patch16_224',\n",
              " 'deit_base_patch16_384',\n",
              " 'deit_small_distilled_patch16_224',\n",
              " 'deit_small_patch16_224',\n",
              " 'deit_tiny_distilled_patch16_224',\n",
              " 'deit_tiny_patch16_224',\n",
              " 'densenet121',\n",
              " 'densenet121d',\n",
              " 'densenet161',\n",
              " 'densenet169',\n",
              " 'densenet201',\n",
              " 'densenet264',\n",
              " 'densenet264d_iabn',\n",
              " 'densenetblur121d',\n",
              " 'dla34',\n",
              " 'dla46_c',\n",
              " 'dla46x_c',\n",
              " 'dla60',\n",
              " 'dla60_res2net',\n",
              " 'dla60_res2next',\n",
              " 'dla60x',\n",
              " 'dla60x_c',\n",
              " 'dla102',\n",
              " 'dla102x',\n",
              " 'dla102x2',\n",
              " 'dla169',\n",
              " 'dm_nfnet_f0',\n",
              " 'dm_nfnet_f1',\n",
              " 'dm_nfnet_f2',\n",
              " 'dm_nfnet_f3',\n",
              " 'dm_nfnet_f4',\n",
              " 'dm_nfnet_f5',\n",
              " 'dm_nfnet_f6',\n",
              " 'dpn68',\n",
              " 'dpn68b',\n",
              " 'dpn92',\n",
              " 'dpn98',\n",
              " 'dpn107',\n",
              " 'dpn131',\n",
              " 'eca_botnext26ts_256',\n",
              " 'eca_efficientnet_b0',\n",
              " 'eca_halonext26ts',\n",
              " 'eca_lambda_resnext26ts',\n",
              " 'eca_nfnet_l0',\n",
              " 'eca_nfnet_l1',\n",
              " 'eca_nfnet_l2',\n",
              " 'eca_nfnet_l3',\n",
              " 'eca_swinnext26ts_256',\n",
              " 'eca_vovnet39b',\n",
              " 'ecaresnet26t',\n",
              " 'ecaresnet50d',\n",
              " 'ecaresnet50d_pruned',\n",
              " 'ecaresnet50t',\n",
              " 'ecaresnet101d',\n",
              " 'ecaresnet101d_pruned',\n",
              " 'ecaresnet200d',\n",
              " 'ecaresnet269d',\n",
              " 'ecaresnetlight',\n",
              " 'ecaresnext26t_32x4d',\n",
              " 'ecaresnext50t_32x4d',\n",
              " 'efficientnet_b0',\n",
              " 'efficientnet_b1',\n",
              " 'efficientnet_b1_pruned',\n",
              " 'efficientnet_b2',\n",
              " 'efficientnet_b2_pruned',\n",
              " 'efficientnet_b2a',\n",
              " 'efficientnet_b3',\n",
              " 'efficientnet_b3_pruned',\n",
              " 'efficientnet_b3a',\n",
              " 'efficientnet_b4',\n",
              " 'efficientnet_b5',\n",
              " 'efficientnet_b6',\n",
              " 'efficientnet_b7',\n",
              " 'efficientnet_b8',\n",
              " 'efficientnet_cc_b0_4e',\n",
              " 'efficientnet_cc_b0_8e',\n",
              " 'efficientnet_cc_b1_8e',\n",
              " 'efficientnet_el',\n",
              " 'efficientnet_el_pruned',\n",
              " 'efficientnet_em',\n",
              " 'efficientnet_es',\n",
              " 'efficientnet_es_pruned',\n",
              " 'efficientnet_l2',\n",
              " 'efficientnet_lite0',\n",
              " 'efficientnet_lite1',\n",
              " 'efficientnet_lite2',\n",
              " 'efficientnet_lite3',\n",
              " 'efficientnet_lite4',\n",
              " 'efficientnetv2_l',\n",
              " 'efficientnetv2_m',\n",
              " 'efficientnetv2_rw_m',\n",
              " 'efficientnetv2_rw_s',\n",
              " 'efficientnetv2_s',\n",
              " 'ens_adv_inception_resnet_v2',\n",
              " 'ese_vovnet19b_dw',\n",
              " 'ese_vovnet19b_slim',\n",
              " 'ese_vovnet19b_slim_dw',\n",
              " 'ese_vovnet39b',\n",
              " 'ese_vovnet39b_evos',\n",
              " 'ese_vovnet57b',\n",
              " 'ese_vovnet99b',\n",
              " 'ese_vovnet99b_iabn',\n",
              " 'fbnetc_100',\n",
              " 'fbnetv3_b',\n",
              " 'fbnetv3_d',\n",
              " 'fbnetv3_g',\n",
              " 'gc_efficientnet_b0',\n",
              " 'gcresnet50t',\n",
              " 'gcresnext26ts',\n",
              " 'geresnet50t',\n",
              " 'gernet_l',\n",
              " 'gernet_m',\n",
              " 'gernet_s',\n",
              " 'ghostnet_050',\n",
              " 'ghostnet_100',\n",
              " 'ghostnet_130',\n",
              " 'gluon_inception_v3',\n",
              " 'gluon_resnet18_v1b',\n",
              " 'gluon_resnet34_v1b',\n",
              " 'gluon_resnet50_v1b',\n",
              " 'gluon_resnet50_v1c',\n",
              " 'gluon_resnet50_v1d',\n",
              " 'gluon_resnet50_v1s',\n",
              " 'gluon_resnet101_v1b',\n",
              " 'gluon_resnet101_v1c',\n",
              " 'gluon_resnet101_v1d',\n",
              " 'gluon_resnet101_v1s',\n",
              " 'gluon_resnet152_v1b',\n",
              " 'gluon_resnet152_v1c',\n",
              " 'gluon_resnet152_v1d',\n",
              " 'gluon_resnet152_v1s',\n",
              " 'gluon_resnext50_32x4d',\n",
              " 'gluon_resnext101_32x4d',\n",
              " 'gluon_resnext101_64x4d',\n",
              " 'gluon_senet154',\n",
              " 'gluon_seresnext50_32x4d',\n",
              " 'gluon_seresnext101_32x4d',\n",
              " 'gluon_seresnext101_64x4d',\n",
              " 'gluon_xception65',\n",
              " 'gmixer_12_224',\n",
              " 'gmixer_24_224',\n",
              " 'gmlp_b16_224',\n",
              " 'gmlp_s16_224',\n",
              " 'gmlp_ti16_224',\n",
              " 'halonet26t',\n",
              " 'halonet50ts',\n",
              " 'halonet_h1',\n",
              " 'halonet_h1_c4c5',\n",
              " 'hardcorenas_a',\n",
              " 'hardcorenas_b',\n",
              " 'hardcorenas_c',\n",
              " 'hardcorenas_d',\n",
              " 'hardcorenas_e',\n",
              " 'hardcorenas_f',\n",
              " 'hrnet_w18',\n",
              " 'hrnet_w18_small',\n",
              " 'hrnet_w18_small_v2',\n",
              " 'hrnet_w30',\n",
              " 'hrnet_w32',\n",
              " 'hrnet_w40',\n",
              " 'hrnet_w44',\n",
              " 'hrnet_w48',\n",
              " 'hrnet_w64',\n",
              " 'ig_resnext101_32x8d',\n",
              " 'ig_resnext101_32x16d',\n",
              " 'ig_resnext101_32x32d',\n",
              " 'ig_resnext101_32x48d',\n",
              " 'inception_resnet_v2',\n",
              " 'inception_v3',\n",
              " 'inception_v4',\n",
              " 'lambda_resnet26t',\n",
              " 'lambda_resnet50t',\n",
              " 'legacy_senet154',\n",
              " 'legacy_seresnet18',\n",
              " 'legacy_seresnet34',\n",
              " 'legacy_seresnet50',\n",
              " 'legacy_seresnet101',\n",
              " 'legacy_seresnet152',\n",
              " 'legacy_seresnext26_32x4d',\n",
              " 'legacy_seresnext50_32x4d',\n",
              " 'legacy_seresnext101_32x4d',\n",
              " 'levit_128',\n",
              " 'levit_128s',\n",
              " 'levit_192',\n",
              " 'levit_256',\n",
              " 'levit_384',\n",
              " 'mixer_b16_224',\n",
              " 'mixer_b16_224_in21k',\n",
              " 'mixer_b16_224_miil',\n",
              " 'mixer_b16_224_miil_in21k',\n",
              " 'mixer_b32_224',\n",
              " 'mixer_l16_224',\n",
              " 'mixer_l16_224_in21k',\n",
              " 'mixer_l32_224',\n",
              " 'mixer_s16_224',\n",
              " 'mixer_s32_224',\n",
              " 'mixnet_l',\n",
              " 'mixnet_m',\n",
              " 'mixnet_s',\n",
              " 'mixnet_xl',\n",
              " 'mixnet_xxl',\n",
              " 'mnasnet_050',\n",
              " 'mnasnet_075',\n",
              " 'mnasnet_100',\n",
              " 'mnasnet_140',\n",
              " 'mnasnet_a1',\n",
              " 'mnasnet_b1',\n",
              " 'mnasnet_small',\n",
              " 'mobilenetv2_100',\n",
              " 'mobilenetv2_110d',\n",
              " 'mobilenetv2_120d',\n",
              " 'mobilenetv2_140',\n",
              " 'mobilenetv3_large_075',\n",
              " 'mobilenetv3_large_100',\n",
              " 'mobilenetv3_large_100_miil',\n",
              " 'mobilenetv3_large_100_miil_in21k',\n",
              " 'mobilenetv3_rw',\n",
              " 'mobilenetv3_small_075',\n",
              " 'mobilenetv3_small_100',\n",
              " 'nasnetalarge',\n",
              " 'nf_ecaresnet26',\n",
              " 'nf_ecaresnet50',\n",
              " 'nf_ecaresnet101',\n",
              " 'nf_regnet_b0',\n",
              " 'nf_regnet_b1',\n",
              " 'nf_regnet_b2',\n",
              " 'nf_regnet_b3',\n",
              " 'nf_regnet_b4',\n",
              " 'nf_regnet_b5',\n",
              " 'nf_resnet26',\n",
              " 'nf_resnet50',\n",
              " 'nf_resnet101',\n",
              " 'nf_seresnet26',\n",
              " 'nf_seresnet50',\n",
              " 'nf_seresnet101',\n",
              " 'nfnet_f0',\n",
              " 'nfnet_f0s',\n",
              " 'nfnet_f1',\n",
              " 'nfnet_f1s',\n",
              " 'nfnet_f2',\n",
              " 'nfnet_f2s',\n",
              " 'nfnet_f3',\n",
              " 'nfnet_f3s',\n",
              " 'nfnet_f4',\n",
              " 'nfnet_f4s',\n",
              " 'nfnet_f5',\n",
              " 'nfnet_f5s',\n",
              " 'nfnet_f6',\n",
              " 'nfnet_f6s',\n",
              " 'nfnet_f7',\n",
              " 'nfnet_f7s',\n",
              " 'nfnet_l0',\n",
              " 'pit_b_224',\n",
              " 'pit_b_distilled_224',\n",
              " 'pit_s_224',\n",
              " 'pit_s_distilled_224',\n",
              " 'pit_ti_224',\n",
              " 'pit_ti_distilled_224',\n",
              " 'pit_xs_224',\n",
              " 'pit_xs_distilled_224',\n",
              " 'pnasnet5large',\n",
              " 'rednet26t',\n",
              " 'rednet50ts',\n",
              " 'regnetx_002',\n",
              " 'regnetx_004',\n",
              " 'regnetx_006',\n",
              " 'regnetx_008',\n",
              " 'regnetx_016',\n",
              " 'regnetx_032',\n",
              " 'regnetx_040',\n",
              " 'regnetx_064',\n",
              " 'regnetx_080',\n",
              " 'regnetx_120',\n",
              " 'regnetx_160',\n",
              " 'regnetx_320',\n",
              " 'regnety_002',\n",
              " 'regnety_004',\n",
              " 'regnety_006',\n",
              " 'regnety_008',\n",
              " 'regnety_016',\n",
              " 'regnety_032',\n",
              " 'regnety_040',\n",
              " 'regnety_064',\n",
              " 'regnety_080',\n",
              " 'regnety_120',\n",
              " 'regnety_160',\n",
              " 'regnety_320',\n",
              " 'repvgg_a2',\n",
              " 'repvgg_b0',\n",
              " 'repvgg_b1',\n",
              " 'repvgg_b1g4',\n",
              " 'repvgg_b2',\n",
              " 'repvgg_b2g4',\n",
              " 'repvgg_b3',\n",
              " 'repvgg_b3g4',\n",
              " 'res2net50_14w_8s',\n",
              " 'res2net50_26w_4s',\n",
              " 'res2net50_26w_6s',\n",
              " 'res2net50_26w_8s',\n",
              " 'res2net50_48w_2s',\n",
              " 'res2net101_26w_4s',\n",
              " 'res2next50',\n",
              " 'resmlp_12_224',\n",
              " 'resmlp_12_distilled_224',\n",
              " 'resmlp_24_224',\n",
              " 'resmlp_24_distilled_224',\n",
              " 'resmlp_36_224',\n",
              " 'resmlp_36_distilled_224',\n",
              " 'resmlp_big_24_224',\n",
              " 'resmlp_big_24_224_in22ft1k',\n",
              " 'resmlp_big_24_distilled_224',\n",
              " 'resnest14d',\n",
              " 'resnest26d',\n",
              " 'resnest50d',\n",
              " 'resnest50d_1s4x24d',\n",
              " 'resnest50d_4s2x40d',\n",
              " 'resnest101e',\n",
              " 'resnest200e',\n",
              " 'resnest269e',\n",
              " 'resnet18',\n",
              " 'resnet18d',\n",
              " 'resnet26',\n",
              " 'resnet26d',\n",
              " 'resnet26t',\n",
              " 'resnet34',\n",
              " 'resnet34d',\n",
              " 'resnet50',\n",
              " 'resnet50d',\n",
              " 'resnet50t',\n",
              " 'resnet51q',\n",
              " 'resnet61q',\n",
              " 'resnet101',\n",
              " 'resnet101d',\n",
              " 'resnet152',\n",
              " 'resnet152d',\n",
              " 'resnet200',\n",
              " 'resnet200d',\n",
              " 'resnetblur18',\n",
              " 'resnetblur50',\n",
              " 'resnetrs50',\n",
              " 'resnetrs101',\n",
              " 'resnetrs152',\n",
              " 'resnetrs200',\n",
              " 'resnetrs270',\n",
              " 'resnetrs350',\n",
              " 'resnetrs420',\n",
              " 'resnetv2_50',\n",
              " 'resnetv2_50d',\n",
              " 'resnetv2_50t',\n",
              " 'resnetv2_50x1_bit_distilled',\n",
              " 'resnetv2_50x1_bitm',\n",
              " 'resnetv2_50x1_bitm_in21k',\n",
              " 'resnetv2_50x3_bitm',\n",
              " 'resnetv2_50x3_bitm_in21k',\n",
              " 'resnetv2_101',\n",
              " 'resnetv2_101d',\n",
              " 'resnetv2_101x1_bitm',\n",
              " 'resnetv2_101x1_bitm_in21k',\n",
              " 'resnetv2_101x3_bitm',\n",
              " 'resnetv2_101x3_bitm_in21k',\n",
              " 'resnetv2_152',\n",
              " 'resnetv2_152d',\n",
              " 'resnetv2_152x2_bit_teacher',\n",
              " 'resnetv2_152x2_bit_teacher_384',\n",
              " 'resnetv2_152x2_bitm',\n",
              " 'resnetv2_152x2_bitm_in21k',\n",
              " 'resnetv2_152x4_bitm',\n",
              " 'resnetv2_152x4_bitm_in21k',\n",
              " 'resnext50_32x4d',\n",
              " 'resnext50d_32x4d',\n",
              " 'resnext101_32x4d',\n",
              " 'resnext101_32x8d',\n",
              " 'resnext101_64x4d',\n",
              " 'rexnet_100',\n",
              " 'rexnet_130',\n",
              " 'rexnet_150',\n",
              " 'rexnet_200',\n",
              " 'rexnetr_100',\n",
              " 'rexnetr_130',\n",
              " 'rexnetr_150',\n",
              " 'rexnetr_200',\n",
              " 'selecsls42',\n",
              " 'selecsls42b',\n",
              " 'selecsls60',\n",
              " 'selecsls60b',\n",
              " 'selecsls84',\n",
              " 'semnasnet_050',\n",
              " 'semnasnet_075',\n",
              " 'semnasnet_100',\n",
              " 'semnasnet_140',\n",
              " 'senet154',\n",
              " 'seresnet18',\n",
              " 'seresnet34',\n",
              " 'seresnet50',\n",
              " 'seresnet50t',\n",
              " 'seresnet101',\n",
              " 'seresnet152',\n",
              " 'seresnet152d',\n",
              " 'seresnet200d',\n",
              " 'seresnet269d',\n",
              " 'seresnext26d_32x4d',\n",
              " 'seresnext26t_32x4d',\n",
              " 'seresnext26tn_32x4d',\n",
              " 'seresnext50_32x4d',\n",
              " 'seresnext101_32x4d',\n",
              " 'seresnext101_32x8d',\n",
              " 'skresnet18',\n",
              " 'skresnet34',\n",
              " 'skresnet50',\n",
              " 'skresnet50d',\n",
              " 'skresnext50_32x4d',\n",
              " 'spnasnet_100',\n",
              " 'ssl_resnet18',\n",
              " 'ssl_resnet50',\n",
              " 'ssl_resnext50_32x4d',\n",
              " 'ssl_resnext101_32x4d',\n",
              " 'ssl_resnext101_32x8d',\n",
              " 'ssl_resnext101_32x16d',\n",
              " 'swin_base_patch4_window7_224',\n",
              " 'swin_base_patch4_window7_224_in22k',\n",
              " 'swin_base_patch4_window12_384',\n",
              " 'swin_base_patch4_window12_384_in22k',\n",
              " 'swin_large_patch4_window7_224',\n",
              " 'swin_large_patch4_window7_224_in22k',\n",
              " 'swin_large_patch4_window12_384',\n",
              " 'swin_large_patch4_window12_384_in22k',\n",
              " 'swin_small_patch4_window7_224',\n",
              " 'swin_tiny_patch4_window7_224',\n",
              " 'swinnet26t_256',\n",
              " 'swinnet50ts_256',\n",
              " 'swsl_resnet18',\n",
              " 'swsl_resnet50',\n",
              " 'swsl_resnext50_32x4d',\n",
              " 'swsl_resnext101_32x4d',\n",
              " 'swsl_resnext101_32x8d',\n",
              " 'swsl_resnext101_32x16d',\n",
              " 'tf_efficientnet_b0',\n",
              " 'tf_efficientnet_b0_ap',\n",
              " 'tf_efficientnet_b0_ns',\n",
              " 'tf_efficientnet_b1',\n",
              " 'tf_efficientnet_b1_ap',\n",
              " 'tf_efficientnet_b1_ns',\n",
              " 'tf_efficientnet_b2',\n",
              " 'tf_efficientnet_b2_ap',\n",
              " 'tf_efficientnet_b2_ns',\n",
              " 'tf_efficientnet_b3',\n",
              " 'tf_efficientnet_b3_ap',\n",
              " 'tf_efficientnet_b3_ns',\n",
              " 'tf_efficientnet_b4',\n",
              " 'tf_efficientnet_b4_ap',\n",
              " 'tf_efficientnet_b4_ns',\n",
              " 'tf_efficientnet_b5',\n",
              " 'tf_efficientnet_b5_ap',\n",
              " 'tf_efficientnet_b5_ns',\n",
              " 'tf_efficientnet_b6',\n",
              " 'tf_efficientnet_b6_ap',\n",
              " 'tf_efficientnet_b6_ns',\n",
              " 'tf_efficientnet_b7',\n",
              " 'tf_efficientnet_b7_ap',\n",
              " 'tf_efficientnet_b7_ns',\n",
              " 'tf_efficientnet_b8',\n",
              " 'tf_efficientnet_b8_ap',\n",
              " 'tf_efficientnet_cc_b0_4e',\n",
              " 'tf_efficientnet_cc_b0_8e',\n",
              " 'tf_efficientnet_cc_b1_8e',\n",
              " 'tf_efficientnet_el',\n",
              " 'tf_efficientnet_em',\n",
              " 'tf_efficientnet_es',\n",
              " 'tf_efficientnet_l2_ns',\n",
              " 'tf_efficientnet_l2_ns_475',\n",
              " 'tf_efficientnet_lite0',\n",
              " 'tf_efficientnet_lite1',\n",
              " 'tf_efficientnet_lite2',\n",
              " 'tf_efficientnet_lite3',\n",
              " 'tf_efficientnet_lite4',\n",
              " 'tf_efficientnetv2_b0',\n",
              " 'tf_efficientnetv2_b1',\n",
              " 'tf_efficientnetv2_b2',\n",
              " 'tf_efficientnetv2_b3',\n",
              " 'tf_efficientnetv2_l',\n",
              " 'tf_efficientnetv2_l_in21ft1k',\n",
              " 'tf_efficientnetv2_l_in21k',\n",
              " 'tf_efficientnetv2_m',\n",
              " 'tf_efficientnetv2_m_in21ft1k',\n",
              " 'tf_efficientnetv2_m_in21k',\n",
              " 'tf_efficientnetv2_s',\n",
              " 'tf_efficientnetv2_s_in21ft1k',\n",
              " 'tf_efficientnetv2_s_in21k',\n",
              " 'tf_inception_v3',\n",
              " 'tf_mixnet_l',\n",
              " 'tf_mixnet_m',\n",
              " 'tf_mixnet_s',\n",
              " 'tf_mobilenetv3_large_075',\n",
              " 'tf_mobilenetv3_large_100',\n",
              " 'tf_mobilenetv3_large_minimal_100',\n",
              " 'tf_mobilenetv3_small_075',\n",
              " 'tf_mobilenetv3_small_100',\n",
              " 'tf_mobilenetv3_small_minimal_100',\n",
              " 'tnt_b_patch16_224',\n",
              " 'tnt_s_patch16_224',\n",
              " 'tresnet_l',\n",
              " 'tresnet_l_448',\n",
              " 'tresnet_m',\n",
              " 'tresnet_m_448',\n",
              " 'tresnet_m_miil_in21k',\n",
              " 'tresnet_xl',\n",
              " 'tresnet_xl_448',\n",
              " 'tv_densenet121',\n",
              " 'tv_resnet34',\n",
              " 'tv_resnet50',\n",
              " 'tv_resnet101',\n",
              " 'tv_resnet152',\n",
              " 'tv_resnext50_32x4d',\n",
              " 'twins_pcpvt_base',\n",
              " 'twins_pcpvt_large',\n",
              " 'twins_pcpvt_small',\n",
              " 'twins_svt_base',\n",
              " 'twins_svt_large',\n",
              " 'twins_svt_small',\n",
              " 'vgg11',\n",
              " 'vgg11_bn',\n",
              " 'vgg13',\n",
              " 'vgg13_bn',\n",
              " 'vgg16',\n",
              " 'vgg16_bn',\n",
              " 'vgg19',\n",
              " 'vgg19_bn',\n",
              " 'visformer_small',\n",
              " 'visformer_tiny',\n",
              " 'vit_base_patch16_224',\n",
              " 'vit_base_patch16_224_in21k',\n",
              " 'vit_base_patch16_224_miil',\n",
              " 'vit_base_patch16_224_miil_in21k',\n",
              " 'vit_base_patch16_384',\n",
              " 'vit_base_patch32_224',\n",
              " 'vit_base_patch32_224_in21k',\n",
              " 'vit_base_patch32_384',\n",
              " 'vit_base_r26_s32_224',\n",
              " 'vit_base_r50_s16_224',\n",
              " 'vit_base_r50_s16_224_in21k',\n",
              " 'vit_base_r50_s16_384',\n",
              " 'vit_base_resnet26d_224',\n",
              " 'vit_base_resnet50_224_in21k',\n",
              " 'vit_base_resnet50_384',\n",
              " 'vit_base_resnet50d_224',\n",
              " 'vit_huge_patch14_224_in21k',\n",
              " 'vit_large_patch16_224',\n",
              " 'vit_large_patch16_224_in21k',\n",
              " 'vit_large_patch16_384',\n",
              " 'vit_large_patch32_224',\n",
              " 'vit_large_patch32_224_in21k',\n",
              " 'vit_large_patch32_384',\n",
              " 'vit_large_r50_s32_224',\n",
              " 'vit_large_r50_s32_224_in21k',\n",
              " 'vit_large_r50_s32_384',\n",
              " 'vit_small_patch16_224',\n",
              " 'vit_small_patch16_224_in21k',\n",
              " 'vit_small_patch16_384',\n",
              " 'vit_small_patch32_224',\n",
              " 'vit_small_patch32_224_in21k',\n",
              " 'vit_small_patch32_384',\n",
              " 'vit_small_r26_s32_224',\n",
              " 'vit_small_r26_s32_224_in21k',\n",
              " 'vit_small_r26_s32_384',\n",
              " 'vit_small_resnet26d_224',\n",
              " 'vit_small_resnet50d_s16_224',\n",
              " 'vit_tiny_patch16_224',\n",
              " 'vit_tiny_patch16_224_in21k',\n",
              " 'vit_tiny_patch16_384',\n",
              " 'vit_tiny_r_s16_p8_224',\n",
              " 'vit_tiny_r_s16_p8_224_in21k',\n",
              " 'vit_tiny_r_s16_p8_384',\n",
              " 'vovnet39a',\n",
              " 'vovnet57a',\n",
              " 'wide_resnet50_2',\n",
              " 'wide_resnet101_2',\n",
              " 'xception',\n",
              " 'xception41',\n",
              " 'xception65',\n",
              " 'xception71']"
            ]
          },
          "metadata": {
            "tags": []
          },
          "execution_count": 22
        }
      ]
    },
    {
      "cell_type": "code",
      "metadata": {
        "id": "Zll0mNr5yVS5"
      },
      "source": [
        "pre_eval_cfg = yaml.safe_load(\n",
        "\"\"\"\n",
        "globals:\n",
        "  seed: 1086\n",
        "  val_fold: null  # indicate when training\n",
        "  output_path: null # indicate when training\n",
        "  device: cuda\n",
        "  enable_amp: False\n",
        "  max_epoch: 20\n",
        "\n",
        "model:\n",
        "  type: BasicImageModel \n",
        "  dims_head: [null, 1]\n",
        "  base_name: resnet34d\n",
        "  # base_name: tf_efficientnet_b0\n",
        "  # base_name: efficientnet_b0  \n",
        "  # base_name: tf_efficientnetv2_b0 \n",
        "  # base_name: tf_efficientnet_b0_ns\n",
        "  # base_name: resnet50d\n",
        "  pretrained: True\n",
        "  # in_channels: 1\n",
        "  in_channels: 2\n",
        "  # in_channels: 3\n",
        "\n",
        "dataset:\n",
        "  height: 640\n",
        "  width: 640\n",
        "  mixup: {enabled: True, alpha: 0.4}  #1.0 == 0.87\n",
        "  train:\n",
        "    type: SetiAObsDataset\n",
        "    paths: null  # set by lazy_init\n",
        "    labels: null  # set by lazy_init\n",
        "    transform:\n",
        "      type: Compose\n",
        "      transforms:\n",
        "        - {type: Resize, p: 1.0, height: \"@/dataset/height\", width: \"@/dataset/width\"}\n",
        "        - {type: HorizontalFlip, p: 0.5}\n",
        "        - {type: VerticalFlip, p: 0.5}\n",
        "        # - {type: ShiftScaleRotate, p: 0.5, shift_limit: 0.2, scale_limit: 0.2,\n",
        "        #     rotate_limit: 20, border_mode: 0, value: 0, mask_value: 0}\n",
        "        # - {type: IAAAffine, p: 0.5, scale: 1.0}\n",
        "        # - {type: RandomResizedCrop, p: 1.0,\n",
        "            # scale: [0.9, 1.0], height: \"@/dataset/height\", width: \"@/dataset/width\"}\n",
        "        # - {type: Normalize, mean: 0.4887381077884414, std: 0.23064819430546407, max_pixel_value: 255.0, p: 1.0}\n",
        "        - {type: ToTensorV2, always_apply: True}\n",
        "  val:\n",
        "    type: SetiAObsDataset\n",
        "    paths: null  # set by lazy_init\n",
        "    labels: null  # set by lazy_init\n",
        "    transform:\n",
        "      type: Compose\n",
        "      transforms:\n",
        "        - {type: Resize, p: 1.0, height: \"@/dataset/height\", width: \"@/dataset/width\"}\n",
        "        # - {type: Normalize, mean: 0.4887381077884414, std: 0.23064819430546407, max_pixel_value: 255.0, p: 1.0}\n",
        "        - {type: ToTensorV2, always_apply: True}  \n",
        "  test:\n",
        "    type: SetiAObsDataset\n",
        "    paths: null  # set by lazy_init \n",
        "    labels: null  # set by lazy_init\n",
        "    transform: \"@/dataset/val/transform\"\n",
        "\n",
        "loader:\n",
        "  train: {type: DataLoader, dataset: \"@/dataset/train\",\n",
        "    batch_size: 16, num_workers: 2, shuffle: True, pin_memory: True, drop_last: True}\n",
        "  val: {type: DataLoader, dataset: \"@/dataset/val\",\n",
        "    batch_size: 16, num_workers: 2, shuffle: False, pin_memory: True, drop_last: False}\n",
        "  test: {type: DataLoader, dataset: \"@/dataset/test\",\n",
        "    batch_size: 16, num_workers: 2, shuffle: False, pin_memory: True, drop_last: False}\n",
        "\n",
        "optimizer:\n",
        "  type: AdamW   #Adamw\n",
        "  # type: Adam\n",
        "  params: {type: method_call, obj: \"@/model\", method: parameters}\n",
        "  # lr: 1.0e-06\n",
        "  # weight_decay: 1.0e-02\n",
        "  lr: 1.0e-03\n",
        "  # type: AdamP\n",
        "  # params: {type: method_call, obj: \"@/model\", method: parameters}  \n",
        "  # lr: 2.5e-04\n",
        "\n",
        "scheduler:\n",
        "  type: OneCycleLR\n",
        "  optimizer: \"@/optimizer\"\n",
        "  epochs: \"@/globals/max_epoch\"\n",
        "  steps_per_epoch: {type: __len__, obj: \"@/loader/train\"}\n",
        "  max_lr: 1.0e-3\n",
        "  pct_start: 0.1\n",
        "  anneal_strategy: cos\n",
        "  div_factor: 1.0e+3\n",
        "  final_div_factor: 1.0e+3\n",
        "\n",
        "loss: {type: BCEWithLogitsLoss}\n",
        "\n",
        "eval:\n",
        "  - type: micro_average\n",
        "    metric_func: {type: BCEWithLogitsLoss}\n",
        "    report_name: loss\n",
        "  - type: calc_across_all_batchs\n",
        "    metric_func: {type: ROCAUC}\n",
        "    report_name: metric\n",
        "\n",
        "manager:\n",
        "  type: ExtensionsManager\n",
        "  models: \"@/model\"\n",
        "  optimizers: \"@/optimizer\"\n",
        "  max_epochs: \"@/globals/max_epoch\"\n",
        "  iters_per_epoch: {type: __len__, obj: \"@/loader/train\"}\n",
        "  out_dir: \"@/globals/output_path\"\n",
        "  # stop_trgiger: {type: EarlyStoppingTrigger,\n",
        "  #   monitor: val/metric, mode: max, patience: 5, verbose: True,\n",
        "  #   check_trigger: [1, epoch], max_trigger: [\"@/globals/max_epoch\", epoch]}\n",
        "\n",
        "extensions:\n",
        "  # # log\n",
        "  - {type: observe_lr, optimizer: \"@/optimizer\"}\n",
        "  - {type: LogReport}\n",
        "  - {type: PlotReport, y_keys: lr, x_key: epoch, filename: lr.png}\n",
        "  - {type: PlotReport, y_keys: [train/loss, val/loss], x_key: epoch, filename: loss.png}\n",
        "  - {type: PlotReport, y_keys: val/metric, x_key: epoch, filename: metric.png}\n",
        "  - {type: PrintReport, entries: [\n",
        "      epoch, iteration, lr, train/loss, val/loss, val/metric, elapsed_time]}\n",
        "  - {type: ProgressBarNotebook, update_interval: 20}\n",
        "  # snapshot\n",
        "  - extension: {type: snapshot, target: \"@/model\", filename: \"snapshot_by_metric_epoch_{.epoch}.pth\"}\n",
        "    trigger: {type: MaxValueTrigger, key: \"val/metric\", trigger: [1, epoch]}\n",
        "  # # lr scheduler\n",
        "  - {type: LRScheduler, scheduler: \"@/scheduler\", trigger: [1,  iteration]}\n",
        "\"\"\"\n",
        ")"
      ],
      "execution_count": null,
      "outputs": []
    },
    {
      "cell_type": "markdown",
      "metadata": {
        "id": "_xFujROQyVS6"
      },
      "source": [
        "## functions for training"
      ]
    },
    {
      "cell_type": "code",
      "metadata": {
        "id": "VRoH5kRzyVS6"
      },
      "source": [
        "def set_random_seed(seed: int = 20, deterministic: bool = False):\n",
        "    \"\"\"Set seeds\"\"\"\n",
        "    random.seed(seed)\n",
        "    np.random.seed(seed)\n",
        "    os.environ[\"PYTHONHASHSEED\"] = str(seed)\n",
        "    torch.manual_seed(seed)\n",
        "    torch.cuda.manual_seed(seed)  # type: ignore\n",
        "    torch.backends.cudnn.deterministic = deterministic  # type: ignore\n",
        "\n",
        "\n",
        "def to_device(\n",
        "    tensors: tp.Union[tp.Tuple[torch.Tensor], tp.Dict[str, torch.Tensor]],\n",
        "    device: torch.device, *args, **kwargs\n",
        "):\n",
        "    if isinstance(tensors, tuple):\n",
        "        return (t.to(device, *args, **kwargs) for t in tensors)\n",
        "    elif isinstance(tensors, dict):\n",
        "        return {\n",
        "            k: t.to(device, *args, **kwargs) for k, t in tensors.items()}\n",
        "    else:\n",
        "        return tensors.to(device, *args, **kwargs)"
      ],
      "execution_count": null,
      "outputs": []
    },
    {
      "cell_type": "code",
      "metadata": {
        "id": "FNiRfVlRyVS6"
      },
      "source": [
        "def get_path_label(cfg: Config, train_all: pd.DataFrame):\n",
        "    \"\"\"Get file path and target info.\"\"\"\n",
        "    use_fold = cfg[\"/globals/val_fold\"]\n",
        "\n",
        "    train_df = train_all[train_all[\"fold\"] != use_fold]\n",
        "    val_df = train_all[train_all[\"fold\"] == use_fold]\n",
        "    \n",
        "    train_path_label = {\n",
        "        \"paths\": [TRAIN / f\"{img_id[0]}/{img_id}.npy\" for img_id in train_df[\"id\"].values],\n",
        "        \"labels\": train_df[CLASSES].values.astype(\"f\")}\n",
        "    val_path_label = {\n",
        "        \"paths\": [TRAIN / f\"{img_id[0]}/{img_id}.npy\" for img_id in val_df[\"id\"].values],\n",
        "        \"labels\": val_df[CLASSES].values.astype(\"f\")\n",
        "    }\n",
        "    return train_path_label, val_path_label\n",
        "\n",
        "\n",
        "def get_eval_func(cfg, model, device):\n",
        "    \n",
        "    def eval_func(**batch):\n",
        "        \"\"\"Run evaliation for val or test. This function is applied to each batch.\"\"\"\n",
        "        batch = to_device(batch, device)\n",
        "        x = batch[\"image\"]\n",
        "        with amp.autocast(cfg[\"/globals/enable_amp\"]): \n",
        "            y = model(x)\n",
        "        return y.detach().cpu().to(torch.float32)  # input of metrics\n",
        "\n",
        "    return eval_func\n",
        "\n",
        "\n",
        "def mixup_data(use_mixup, x, t, alpha=1.0, use_cuda=True):\n",
        "    '''Returns mixed inputs, pairs of targets, and lambda'''\n",
        "    if not use_mixup:\n",
        "        return x, t, None, None\n",
        "    \n",
        "    if alpha > 0:\n",
        "        lam = np.random.beta(alpha, alpha)\n",
        "    else:\n",
        "        lam = 1\n",
        "\n",
        "    batch_size = x.size()[0]\n",
        "    if use_cuda:\n",
        "        index = torch.randperm(batch_size).cuda()\n",
        "    else:\n",
        "        index = torch.randperm(batch_size)\n",
        "\n",
        "    mixed_x = lam * x + (1 - lam) * x[index, :]\n",
        "    t_a, t_b = t, t[index]\n",
        "    return mixed_x, t_a, t_b, lam\n",
        "\n",
        "def get_criterion(use_mixup, loss_func):\n",
        "\n",
        "    def mixup_criterion(pred, t_a, t_b, lam):\n",
        "        return lam * loss_func(pred, t_a) + (1 - lam) * loss_func(pred, t_b)\n",
        "\n",
        "    def single_criterion(pred, t_a, t_b, lam):\n",
        "        return loss_func(pred, t_a)\n",
        "    \n",
        "    if use_mixup:\n",
        "        return mixup_criterion\n",
        "    else:\n",
        "        return single_criterion"
      ],
      "execution_count": null,
      "outputs": []
    },
    {
      "cell_type": "code",
      "metadata": {
        "id": "s0eaCHEEyVS7"
      },
      "source": [
        "  def train_one_fold(cfg, train_all):\n",
        "    \"\"\"Main\"\"\"\n",
        "    torch.backends.cudnn.benchmark = True\n",
        "    set_random_seed(cfg[\"/globals/seed\"], True)\n",
        "    device = torch.device(cfg[\"/globals/device\"])\n",
        "    \n",
        "    train_path_label, val_path_label = get_path_label(cfg, train_all)\n",
        "    print(\"train: {}, val: {}\".format(len(train_path_label[\"paths\"]), len(val_path_label[\"paths\"])))\n",
        "   \n",
        "    cfg[\"/dataset/train\"].lazy_init(**train_path_label)\n",
        "    cfg[\"/dataset/val\"].lazy_init(**val_path_label)\n",
        "    train_loader = cfg[\"/loader/train\"]\n",
        "    val_loader = cfg[\"/loader/val\"]\n",
        "\n",
        "    model = cfg[\"/model\"]\n",
        "    model.to(device)\n",
        "    optimizer = cfg[\"/optimizer\"]\n",
        "    loss_func = cfg[\"/loss\"]\n",
        "    loss_func.to(device)\n",
        "    \n",
        "    manager = cfg[\"/manager\"]\n",
        "    for ext in cfg[\"/extensions\"]:\n",
        "        if isinstance(ext, dict):\n",
        "            manager.extend(**ext)\n",
        "        else:\n",
        "            manager.extend(ext)\n",
        "\n",
        "    evaluator = ppe_exts.Evaluator(\n",
        "        val_loader, model, eval_func=get_eval_func(cfg, model, device),\n",
        "        metrics=cfg[\"/eval\"], progress_bar=False)\n",
        "    manager.extend(evaluator, trigger=(1, \"epoch\"))\n",
        "\n",
        "    use_amp = cfg[\"/globals/enable_amp\"]\n",
        "    scaler = amp.GradScaler(enabled=use_amp)\n",
        "    use_mixup = cfg[\"/dataset/mixup/enabled\"]\n",
        "    mixup_alpha = cfg[\"/dataset/mixup/alpha\"]\n",
        "    \n",
        "    while not manager.stop_trigger:\n",
        "        model.train() \n",
        "        for batch in train_loader:\n",
        "            with manager.run_iteration():\n",
        "                batch = to_device(batch, device)\n",
        "                x, t = batch[\"image\"], batch[\"target\"]\n",
        "                # # for mixup\n",
        "                mixed_x, t_a, t_b, lam = mixup_data(use_mixup, x, t, mixup_alpha)\n",
        "                criterion = get_criterion(use_mixup, loss_func)\n",
        "                \n",
        "                optimizer.zero_grad()\n",
        "                with amp.autocast(use_amp):\n",
        "                    y = model(mixed_x)\n",
        "                    loss = criterion(y, t_a, t_b, lam)\n",
        "                scaler.scale(loss).backward()\n",
        "                scaler.step(optimizer)\n",
        "                scaler.update()\n",
        "                \n",
        "                ppe.reporting.report({'train/loss': loss.item()})"
      ],
      "execution_count": null,
      "outputs": []
    },
    {
      "cell_type": "markdown",
      "metadata": {
        "id": "amETHRGkyVS7"
      },
      "source": [
        "## run train"
      ]
    },
    {
      "cell_type": "code",
      "metadata": {
        "id": "FqNeVxEkyVS7"
      },
      "source": [
        "pre_eval_cfg_list = []\n",
        "for fold_id in FOLDS:\n",
        "    tmp_cfg = copy.deepcopy(pre_eval_cfg)\n",
        "    tmp_cfg[\"globals\"][\"val_fold\"] = fold_id\n",
        "    tmp_cfg[\"globals\"][\"output_path\"] = str(TMP / f\"fold{fold_id}\")\n",
        "    pre_eval_cfg_list.append(tmp_cfg)"
      ],
      "execution_count": null,
      "outputs": []
    },
    {
      "cell_type": "code",
      "metadata": {
        "id": "HCjjl-LUXQsv",
        "colab": {
          "base_uri": "https://localhost:8080/"
        },
        "outputId": "e7fb8520-244a-4121-d25b-796b7b57fcd4"
      },
      "source": [
        "gc.collect()"
      ],
      "execution_count": null,
      "outputs": [
        {
          "output_type": "execute_result",
          "data": {
            "text/plain": [
              "174"
            ]
          },
          "metadata": {
            "tags": []
          },
          "execution_count": 28
        }
      ]
    },
    {
      "cell_type": "code",
      "metadata": {
        "id": "5lug7OLQyVS8",
        "colab": {
          "base_uri": "https://localhost:8080/",
          "height": 637,
          "referenced_widgets": [
            "c636b049daa44d1397caa973443bf5f5",
            "b368a4cc5e684dc69e4b4be61d37f9ab",
            "1909c2523bc641c5a8e6abd5a4beb86e",
            "1930852f965a46f5bd2fd1af2991c882",
            "6e15ef22bb734325914e76766a3795a6",
            "06e91a62c8c34c789be206c3924f807e",
            "ab5484823672484391b12840c91a3b95",
            "562c6d4b1b1f4ed5ac3a989058c5ef9e",
            "a99299836b3143e3a842fc19469e29d6",
            "e8b936ef4ece437fa4e9acd3689004ff",
            "8580dfba7237422697288d2d966cb318",
            "6cf82b6e809e4a869bbf19c623794080",
            "36548eefcc954045976d2da25107d1d6",
            "4acd5bcd8b67416fb0a71951044a2b81",
            "99e2c50fa3634fa5985804759e0871b2",
            "8ba9a138f73f434f8fa0c6bcc0ac3f09",
            "0afc8f5816dd4892b72b0e99e823155e",
            "1f28998d19754cedb33e1b6c597255f7",
            "bcd72d54a5274616acce8216c495544a",
            "c52540af47e149fd9f382e4efc03b985",
            "69f70a8ca57640f0876d97ebf52ab03f"
          ]
        },
        "outputId": "3051cac0-00ea-49ca-a0dc-2dbb61e6cbbe"
      },
      "source": [
        "for pre_eval_cfg in pre_eval_cfg_list:\n",
        "    cfg = Config(pre_eval_cfg, types=CONFIG_TYPES)\n",
        "    print(f\"\\nfold:\", cfg[\"/globals/val_fold\"])\n",
        "    train_one_fold(cfg, train)\n",
        "    del cfg\n",
        "    torch.cuda.empty_cache()\n",
        "    gc.collect()"
      ],
      "execution_count": null,
      "outputs": [
        {
          "output_type": "stream",
          "text": [
            "\n",
            "fold: 0\n",
            "train: 48000, val: 12000\n",
            "load imagenet pretrained: True\n",
            "resnet34d: 512\n"
          ],
          "name": "stdout"
        },
        {
          "output_type": "display_data",
          "data": {
            "application/vnd.jupyter.widget-view+json": {
              "model_id": "c636b049daa44d1397caa973443bf5f5",
              "version_minor": 0,
              "version_major": 2
            },
            "text/plain": [
              "VBox(children=(HBox(children=(FloatProgress(value=0.0, bar_style='info', description='total', max=1.0), HTML(v…"
            ]
          },
          "metadata": {
            "tags": []
          }
        },
        {
          "output_type": "stream",
          "text": [
            "/usr/local/lib/python3.7/dist-packages/torch/nn/functional.py:718: UserWarning: Named tensors and all their associated APIs are an experimental feature and subject to change. Please do not use them for anything important until they are released as stable. (Triggered internally at  /pytorch/c10/core/TensorImpl.h:1156.)\n",
            "  return torch.max_pool2d(input, kernel_size, stride, padding, dilation, ceil_mode)\n"
          ],
          "name": "stderr"
        },
        {
          "output_type": "stream",
          "text": [
            "epoch       iteration   lr          train/loss  val/loss    val/metric  elapsed_time\n",
            "\u001b[J1           3000        0.000500369  0.371782    0.298323    0.653127    828.822       \n",
            "\u001b[J2           6000        0.001       0.296226    0.264908    0.772837    1663.54       \n",
            "\u001b[J3           9000        0.000992404  0.270881    0.241482    0.795785    2498.63       \n",
            "\u001b[J4           12000       0.000969846  0.260457    0.210473    0.834721    3334.16       \n",
            "\u001b[J5           15000       0.000933013  0.254129    0.203071    0.840254    4170.18       \n",
            "\u001b[J6           18000       0.000883022  0.250381    0.231479    0.836327    5006.09       \n",
            "\u001b[J7           21000       0.000821394  0.248231    0.19386     0.845206    5841.17       \n",
            "\u001b[J8           24000       0.00075     0.242074    0.191441    0.847776    6676.41       \n",
            "\u001b[J9           27000       0.00067101  0.240595    0.191889    0.849826    7511.07       \n",
            "\u001b[J10          30000       0.000586825  0.236774    0.192645    0.846993    8346.12       \n",
            "\u001b[J11          33000       0.000500001  0.232582    0.186741    0.85899     9181.13       \n",
            "\u001b[J12          36000       0.000413176  0.231538    0.182449    0.859302    10016.8       \n",
            "\u001b[J13          39000       0.000328991  0.2275      0.1749      0.85989     10852.1       \n",
            "\u001b[J14          42000       0.000250001  0.223832    0.175993    0.86426     11687.5       \n",
            "\u001b[J15          45000       0.000178607  0.218733    0.177749    0.863877    12523.5       \n",
            "\u001b[J16          48000       0.000116979  0.217231    0.170729    0.865137    13359         \n",
            "\u001b[J17          51000       6.69882e-05  0.21773     0.16968     0.86424     14193.8       \n",
            "\u001b[J18          54000       3.01547e-05  0.213835    0.168535    0.864618    15029.3       \n",
            "\u001b[J19          57000       7.59712e-06  0.21216     0.170865    0.862975    15864.2       \n",
            "\u001b[J20          60000       1e-09       0.212632    0.170084    0.86333     16698.5       \n"
          ],
          "name": "stdout"
        }
      ]
    },
    {
      "cell_type": "code",
      "metadata": {
        "id": "OqlZwMIL5rod",
        "colab": {
          "base_uri": "https://localhost:8080/"
        },
        "outputId": "f3e76840-a64b-4e11-c849-a8948d420107"
      },
      "source": [
        "arr = np.load('/content/train/0/0000799a2b2c42d.npy')\n",
        "arr.shape"
      ],
      "execution_count": null,
      "outputs": [
        {
          "output_type": "execute_result",
          "data": {
            "text/plain": [
              "(256, 819, 2)"
            ]
          },
          "metadata": {
            "tags": []
          },
          "execution_count": 30
        }
      ]
    },
    {
      "cell_type": "code",
      "metadata": {
        "id": "qhLbzWf34t1N"
      },
      "source": [
        "def get_train_filename_by_id(_id: str) -> str:\n",
        "    return f\"/content/train/{_id[0]}/{_id}.npy\""
      ],
      "execution_count": null,
      "outputs": []
    },
    {
      "cell_type": "code",
      "metadata": {
        "id": "QA87E5oB4qLp",
        "colab": {
          "base_uri": "https://localhost:8080/",
          "height": 612
        },
        "outputId": "c5c6eee7-35cf-4bcd-e5be-70141954718c"
      },
      "source": [
        "def show_cadence(filename: str, label: int) -> None:\n",
        "    fig, axes = plt.subplots(12, 1, figsize = (16, 10))\n",
        "    ax = axes.ravel()\n",
        "    arr = np.load(filename)\n",
        "    \n",
        "    #arr = _read_cadence_array(arr)\n",
        "    \n",
        "    for i in range(12):\n",
        "        \n",
        "        ax[i].imshow(arr[i].astype(float), interpolation='nearest', aspect='auto')\n",
        "        ax[i].text(5, 100, [\"ON\", \"OFF\"][i % 2], bbox={'facecolor': 'white'})\n",
        "        if i != 5:\n",
        "            ax[i].set_xticks([])\n",
        "            \n",
        "    fig.text(0.5, -0.02, 'Frequency Range', ha='center', fontsize=18)\n",
        "    fig.text(-0.02, 0.5, 'Seconds', va='center', rotation='vertical', fontsize=18)\n",
        "\n",
        "    plt.suptitle(f\"ID: {os.path.basename(filename)} TARGET: {label}\", fontsize=18)\n",
        "    fig.tight_layout()\n",
        "    plt.show()\n",
        "\n",
        "positive_target=train.query(\"target==1\").sample().id.item()\n",
        "negative_target=train.query(\"target==0\").sample().id.item()\n",
        "show_cadence(get_train_filename_by_id(positive_target), 1)\n",
        "show_cadence(get_train_filename_by_id(negative_target), 0)"
      ],
      "execution_count": null,
      "outputs": [
        {
          "output_type": "stream",
          "text": [
            "/usr/local/lib/python3.7/dist-packages/ipykernel_launcher.py:19: UserWarning: Tight layout not applied. The left and right margins cannot be made large enough to accommodate all axes decorations. \n"
          ],
          "name": "stderr"
        },
        {
          "output_type": "display_data",
          "data": {
            "image/png": "[encoded data removed]",
            "text/plain": [
              "<Figure size 1152x720 with 12 Axes>"
            ]
          },
          "metadata": {
            "tags": [],
            "needs_background": "light"
          }
        },
        {
          "output_type": "display_data",
          "data": {
            "image/png": "[encoded data removed]",
            "text/plain": [
              "<Figure size 1152x720 with 12 Axes>"
            ]
          },
          "metadata": {
            "tags": [],
            "needs_background": "light"
          }
        }
      ]
    },
    {
      "cell_type": "markdown",
      "metadata": {
        "id": "PgcmDugHyVS8"
      },
      "source": [
        "# Inference"
      ]
    },
    {
      "cell_type": "markdown",
      "metadata": {
        "id": "ybjVUYyKyVS8"
      },
      "source": [
        "## Copy best models"
      ]
    },
    {
      "cell_type": "code",
      "metadata": {
        "id": "8yHZ8BekwzuD",
        "colab": {
          "base_uri": "https://localhost:8080/"
        },
        "outputId": "a4e5bf22-3f1f-4c7b-bdf1-83d5de8e84b6"
      },
      "source": [
        "TMP = ROOT / \"tmp\"\n",
        "TMP"
      ],
      "execution_count": null,
      "outputs": [
        {
          "output_type": "execute_result",
          "data": {
            "text/plain": [
              "PosixPath('/tmp')"
            ]
          },
          "metadata": {
            "tags": []
          },
          "execution_count": 33
        }
      ]
    },
    {
      "cell_type": "code",
      "metadata": {
        "id": "1l0_odCByVS8",
        "colab": {
          "base_uri": "https://localhost:8080/"
        },
        "outputId": "d9e7a996-8f18-4021-b8ca-995cf1d7f25a"
      },
      "source": [
        "best_log_list = []\n",
        "for pre_eval_cfg, fold_id in zip(pre_eval_cfg_list, FOLDS):\n",
        "    exp_dir_path = TMP / f\"fold{fold_id}\"\n",
        "    log = pd.read_json(exp_dir_path / \"log\")\n",
        "    best_log = log.iloc[[log[\"val/metric\"].idxmax()],]\n",
        "    best_epoch = best_log.epoch.values[0]\n",
        "    best_log_list.append(best_log)\n",
        "    \n",
        "    best_model_path = exp_dir_path / f\"snapshot_by_metric_epoch_{best_epoch}.pth\"\n",
        "    copy_to = f\"./best_metric_model_fold{fold_id}.pth\"\n",
        "    shutil.copy(best_model_path, copy_to)\n",
        "    \n",
        "    for p in exp_dir_path.glob(\"*.pth\"):\n",
        "        p.unlink()\n",
        "    \n",
        "    shutil.copytree(exp_dir_path, f\"./fold{fold_id}\")\n",
        "    \n",
        "    with open(f\"./fold{fold_id}/config.yml\", \"w\") as fw:\n",
        "        yaml.dump(pre_eval_cfg, fw)\n",
        "    \n",
        "pd.concat(best_log_list, axis=0, ignore_index=True)"
      ],
      "execution_count": null,
      "outputs": [
        {
          "output_type": "execute_result",
          "data": {
            "text/html": [
              "<div>\n",
              "<style scoped>\n",
              "    .dataframe tbody tr th:only-of-type {\n",
              "        vertical-align: middle;\n",
              "    }\n",
              "\n",
              "    .dataframe tbody tr th {\n",
              "        vertical-align: top;\n",
              "    }\n",
              "\n",
              "    .dataframe thead th {\n",
              "        text-align: right;\n",
              "    }\n",
              "</style>\n",
              "<table border=\"1\" class=\"dataframe\">\n",
              "  <thead>\n",
              "    <tr style=\"text-align: right;\">\n",
              "      <th></th>\n",
              "      <th>train/loss</th>\n",
              "      <th>lr</th>\n",
              "      <th>val/loss</th>\n",
              "      <th>val/metric</th>\n",
              "      <th>epoch</th>\n",
              "      <th>iteration</th>\n",
              "      <th>elapsed_time</th>\n",
              "    </tr>\n",
              "  </thead>\n",
              "  <tbody>\n",
              "    <tr>\n",
              "      <th>0</th>\n",
              "      <td>0.217231</td>\n",
              "      <td>0.000117</td>\n",
              "      <td>0.170729</td>\n",
              "      <td>0.865137</td>\n",
              "      <td>16</td>\n",
              "      <td>48000</td>\n",
              "      <td>13358.967025</td>\n",
              "    </tr>\n",
              "  </tbody>\n",
              "</table>\n",
              "</div>"
            ],
            "text/plain": [
              "   train/loss        lr  val/loss  val/metric  epoch  iteration  elapsed_time\n",
              "0    0.217231  0.000117  0.170729    0.865137     16      48000  13358.967025"
            ]
          },
          "metadata": {
            "tags": []
          },
          "execution_count": 34
        }
      ]
    },
    {
      "cell_type": "code",
      "metadata": {
        "id": "2GQubWpYRwJx"
      },
      "source": [
        "  # import shutil\n",
        "\n",
        "  # shutil.rmtree('fold0')"
      ],
      "execution_count": null,
      "outputs": []
    },
    {
      "cell_type": "markdown",
      "metadata": {
        "id": "Hub3Bd05yVS8"
      },
      "source": [
        "## Inference OOF & Test"
      ]
    },
    {
      "cell_type": "code",
      "metadata": {
        "id": "heO0MBZ7yVS8"
      },
      "source": [
        "def run_inference_loop(cfg, model, loader, device):\n",
        "    model.to(device)\n",
        "    model.eval()\n",
        "    pred_list = []\n",
        "    with torch.no_grad():\n",
        "        for batch in tqdm(loader):\n",
        "            x = to_device(batch[\"image\"], device)\n",
        "            y = model(x)\n",
        "            pred_list.append(y.sigmoid().detach().cpu().numpy())\n",
        "        \n",
        "    pred_arr = np.concatenate(pred_list)\n",
        "    del pred_list\n",
        "    return pred_arr"
      ],
      "execution_count": null,
      "outputs": []
    },
    {
      "cell_type": "markdown",
      "metadata": {
        "id": "O_a5LSJk3t4P"
      },
      "source": [
        "# --------------"
      ]
    },
    {
      "cell_type": "code",
      "metadata": {
        "id": "5TP7dwHU3sw3",
        "colab": {
          "base_uri": "https://localhost:8080/",
          "height": 117,
          "referenced_widgets": [
            "35282e5b0b444c078ad33c29400e84be",
            "52fe2cc9ad864b6588578dc44081be5e",
            "cb8f07b36d8448f89eeb6722ad6392dd",
            "7b3710dc4a234cd888697439673a98c0",
            "ad6c0ac8caa24eb4b24945e8547d7183",
            "f09142f4e57e4480ad3210f4059c9c64",
            "e78ee3ecf054408487a18e503a47aa60",
            "8ee48489e0aa47108a54652828d57387",
            "d42d81fca7df4dd9931982a81d2665d4",
            "fec7801815e04f7f98d9cec7fe3e1282",
            "5204ce2a48b24beca8a79ef3760753d2"
          ]
        },
        "outputId": "dee2a614-585b-4eef-e392-e918c63c00ce"
      },
      "source": [
        "label_arr = train[CLASSES].values\n",
        "oof_pred_arr = np.zeros((len(train), N_CLASSES))\n",
        "\n",
        "fold_id = 0\n",
        "print(f\"[fold {fold_id}]\")\n",
        "tmp_dir = Path(f\"./fold{fold_id}\")\n",
        "with open(tmp_dir / \"config.yml\", \"r\") as fr:\n",
        "    cfg = Config(yaml.safe_load(fr), types=CONFIG_TYPES)\n",
        "device = torch.device(cfg[\"/globals/device\"])\n",
        "val_idx = train.query(\"fold == @fold_id\").index.values\n",
        "\n",
        "# # get_dataloader\n",
        "_, val_path_label = get_path_label(cfg, train)\n",
        "cfg[\"/dataset/val\"].lazy_init(**val_path_label)\n",
        "#cfg[\"/dataset/test\"].lazy_init(**test_path_label)\n",
        "val_loader = cfg[\"/loader/val\"]\n",
        "#test_loader = cfg[\"/loader/test\"]\n",
        "model_path = f\"./best_metric_model_fold{fold_id}.pth\"\n",
        "model = cfg[\"/model\"]\n",
        "model.load_state_dict(torch.load(model_path, map_location=device))\n",
        "\n",
        "val_pred = run_inference_loop(cfg, model, val_loader, device)\n",
        "val_score = roc_auc_score(label_arr[val_idx], val_pred)\n",
        "\n",
        "oof_pred_arr[val_idx] = val_pred\n",
        "# score_list.append([fold_id, val_score])\n",
        "\n",
        "# test_pred_arr[fold_id] = run_inference_loop(cfg, model, test_loader, device)\n",
        "\n",
        "#del cfg, val_idx, val_path_label\n",
        "# del model, val_loader, test_loader\n",
        "torch.cuda.empty_cache()\n",
        "gc.collect()\n",
        "\n",
        "print(f\"val score: {val_score:.4f}\")"
      ],
      "execution_count": null,
      "outputs": [
        {
          "output_type": "stream",
          "text": [
            "[fold 0]\n",
            "load imagenet pretrained: True\n",
            "resnet34d: 512\n"
          ],
          "name": "stdout"
        },
        {
          "output_type": "display_data",
          "data": {
            "application/vnd.jupyter.widget-view+json": {
              "model_id": "35282e5b0b444c078ad33c29400e84be",
              "version_minor": 0,
              "version_major": 2
            },
            "text/plain": [
              "  0%|          | 0/750 [00:00<?, ?it/s]"
            ]
          },
          "metadata": {
            "tags": []
          }
        },
        {
          "output_type": "stream",
          "text": [
            "val score: 0.8651\n"
          ],
          "name": "stdout"
        }
      ]
    },
    {
      "cell_type": "code",
      "metadata": {
        "id": "_4qgrr4XjmGA"
      },
      "source": [
        "!cp /content/best_metric_model_fold0.pth /content/drive/MyDrive/SETI/two_resnet34d/\n",
        "!cp /content/fold0/config.yml /content/drive/MyDrive/SETI/two_resnet34d/two_resnet34d_fold0.yml"
      ],
      "execution_count": null,
      "outputs": []
    },
    {
      "cell_type": "code",
      "metadata": {
        "id": "-J3b1L2VEzjm",
        "colab": {
          "base_uri": "https://localhost:8080/",
          "height": 181
        },
        "outputId": "6e344563-3218-4a10-e470-afe0f1b1e4e0"
      },
      "source": [
        "#q = np.concatenate([label_arr[val_idx], val_pred], axis = 1)\n",
        "q[:60]"
      ],
      "execution_count": null,
      "outputs": [
        {
          "output_type": "error",
          "ename": "NameError",
          "evalue": "ignored",
          "traceback": [
            "\u001b[0;31m---------------------------------------------------------------------------\u001b[0m",
            "\u001b[0;31mNameError\u001b[0m                                 Traceback (most recent call last)",
            "\u001b[0;32m<ipython-input-39-0c3ad22c5862>\u001b[0m in \u001b[0;36m<module>\u001b[0;34m()\u001b[0m\n\u001b[1;32m      1\u001b[0m \u001b[0;31m#q = np.concatenate([label_arr[val_idx], val_pred], axis = 1)\u001b[0m\u001b[0;34m\u001b[0m\u001b[0;34m\u001b[0m\u001b[0;34m\u001b[0m\u001b[0m\n\u001b[0;32m----> 2\u001b[0;31m \u001b[0mq\u001b[0m\u001b[0;34m[\u001b[0m\u001b[0;34m:\u001b[0m\u001b[0;36m60\u001b[0m\u001b[0;34m]\u001b[0m\u001b[0;34m\u001b[0m\u001b[0;34m\u001b[0m\u001b[0m\n\u001b[0m",
            "\u001b[0;31mNameError\u001b[0m: name 'q' is not defined"
          ]
        }
      ]
    },
    {
      "cell_type": "markdown",
      "metadata": {
        "id": "rR7rs_ng3uZk"
      },
      "source": [
        "# -----------------"
      ]
    },
    {
      "cell_type": "code",
      "metadata": {
        "id": "Fxw4CdTUk0yY"
      },
      "source": [
        "!cp /content/drive/MyDrive/SETI/new/seti_testprocess.zip ./\n",
        "!unzip ./seti_testprocess.zip\n",
        "!rm ./seti_testprocess.zip"
      ],
      "execution_count": null,
      "outputs": []
    },
    {
      "cell_type": "code",
      "metadata": {
        "id": "NE5c128hk3pI"
      },
      "source": [
        "!mv /content/content/test2/*  /content/content/\n",
        "!rm -r /content/content/test2/\n",
        "!mv /content/content /content/test"
      ],
      "execution_count": null,
      "outputs": []
    },
    {
      "cell_type": "code",
      "metadata": {
        "id": "-FKMgIatyVS9"
      },
      "source": [
        "label_arr = train[CLASSES].values\n",
        "oof_pred_arr = np.zeros((len(train), N_CLASSES))\n",
        "score_list = []\n",
        "test_pred_arr = np.zeros((N_FOLDS, len(smpl_sub), N_CLASSES))\n",
        "test_path_label = {\n",
        "    \"paths\": [DATA / f\"test/{img_id[0]}/{img_id}.npy\" for img_id in smpl_sub[\"id\"].values],\n",
        "    \"labels\": smpl_sub[CLASSES].values.astype(\"f\")\n",
        "}\n",
        "\n",
        "for fold_id in range(N_FOLDS):\n",
        "    print(f\"\\n[fold {fold_id}]\")\n",
        "    tmp_dir = Path(f\"./eff_{fold_id}_config.yml\")\n",
        "    with open(tmp_dir, \"r\") as fr:\n",
        "#     with open(\"../input/seti-test9/config.yml\", \"r\") as fr: \n",
        "        cfg = Config(yaml.safe_load(fr), types=CONFIG_TYPES)\n",
        "    device = torch.device(cfg[\"/globals/device\"])\n",
        "    val_idx = train.query(\"fold == @fold_id\").index.values\n",
        "\n",
        "    # # get_dataloader\n",
        "    _, val_path_label = get_path_label(cfg, train)\n",
        "    cfg[\"/dataset/val\"].lazy_init(**val_path_label)\n",
        "    cfg[\"/dataset/test\"].lazy_init(**test_path_label)\n",
        "    val_loader = cfg[\"/loader/val\"]\n",
        "    test_loader = cfg[\"/loader/test\"]\n",
        "    \n",
        "    # # get model\n",
        "#     model_path = f\"./best_metric_model_fold{fold_id}.pth\"\n",
        "    model_path = f\"/content/drive/MyDrive/SETI/effnet_noflip/best_metric_model_fold{fold_id}.pth\"\n",
        "    \n",
        "    model = cfg[\"/model\"]\n",
        "    model.load_state_dict(torch.load(model_path, map_location=device))\n",
        "    \n",
        "    # # inference\n",
        "    val_pred = run_inference_loop(cfg, model, val_loader, device)\n",
        "    val_score = roc_auc_score(label_arr[val_idx], val_pred)\n",
        "    oof_pred_arr[val_idx] = val_pred\n",
        "    score_list.append([fold_id, val_score])\n",
        "    \n",
        "    test_pred_arr[fold_id] = run_inference_loop(cfg, model, test_loader, device)\n",
        "    \n",
        "    del cfg, val_idx, val_path_label\n",
        "    del model, val_loader, test_loader\n",
        "    torch.cuda.empty_cache()\n",
        "    gc.collect()\n",
        "    \n",
        "    print(f\"val score: {val_score:.4f}\")"
      ],
      "execution_count": null,
      "outputs": []
    },
    {
      "cell_type": "code",
      "metadata": {
        "id": "3-ayrKgeyVS9"
      },
      "source": [
        "oof_score = roc_auc_score(label_arr, oof_pred_arr)\n",
        "score_list.append([\"oof\", oof_score])\n",
        "pd.DataFrame(score_list, columns=[\"fold\", \"metric\"])"
      ],
      "execution_count": null,
      "outputs": []
    },
    {
      "cell_type": "code",
      "metadata": {
        "id": "gs4hwkRSyVS9"
      },
      "source": [
        "oof_df = train.copy()\n",
        "oof_df[CLASSES] = oof_pred_arr\n",
        "oof_df.to_csv(\"./oof_prediction.csv\", index=False)"
      ],
      "execution_count": null,
      "outputs": []
    },
    {
      "cell_type": "markdown",
      "metadata": {
        "id": "VLIWlfCeyVS9"
      },
      "source": [
        "## Make submission"
      ]
    },
    {
      "cell_type": "code",
      "metadata": {
        "id": "ZusM2UXwyVS-"
      },
      "source": [
        "sub_df = smpl_sub.copy()\n",
        "sub_df[CLASSES] = test_pred_arr.mean(axis=0)\n",
        "sub_df.to_csv(\"./submission.csv\", index=False)"
      ],
      "execution_count": null,
      "outputs": []
    },
    {
      "cell_type": "code",
      "metadata": {
        "id": "lvCpE9v8yVS-"
      },
      "source": [
        "sub_df.head()"
      ],
      "execution_count": null,
      "outputs": []
    },
    {
      "cell_type": "code",
      "metadata": {
        "id": "y-HH7bGNW9e6"
      },
      "source": [
        "import pandas as pd\n",
        "import numpy as np\n",
        "pred_ns = pd.read_csv('/content/drive/MyDrive/SETI/eff_ns/single_eff_ns.csv')\n",
        "pred_eff = pd.read_csv('/content/drive/MyDrive/SETI/effnet/eff.csv')\n",
        "pred_resnet = pd.read_csv('/content/drive/MyDrive/SETI/resnet/resnet_submission.csv')\n",
        "pred_noflip = pd.read_csv('/content/drive/MyDrive/SETI/effnet_noflip/no_flip.csv')\n",
        "pred_noisy = pd.read_csv('/content/drive/MyDrive/SETI/two_eff_ns/two_ns.csv')\n",
        "# pred_tawara = pd.read_csv('/content/drive/MyDrive/SETI/tawara_resnet18d.csv')"
      ],
      "execution_count": null,
      "outputs": []
    },
    {
      "cell_type": "code",
      "metadata": {
        "id": "JXrMvIkEeCEe"
      },
      "source": [
        "oof_ns = pd.read_csv('/content/drive/MyDrive/SETI/eff_ns/oof_eff_ns.csv')\n",
        "oof_resnet = pd.read_csv('/content/drive/MyDrive/SETI/resnet/oof_resnet.csv')\n",
        "oof_eff = pd.read_csv('/content/drive/MyDrive/SETI/effnet/oof_eff.csv')\n",
        "oof_noflip = pd.read_csv('/content/drive/MyDrive/SETI/effnet_noflip/oof_no_flip.csv')\n",
        "oof_tawara = pd.read_csv('/content/drive/MyDrive/SETI/tawara_resnet18d.csv')"
      ],
      "execution_count": null,
      "outputs": []
    },
    {
      "cell_type": "code",
      "metadata": {
        "id": "hZpGvQB0d_pD"
      },
      "source": [
        "\n",
        "# t = oof_resnet.copy()\n",
        "# t['target'] = (0.4*t['target']) + (0.4*oof_ns['target']) + (0.2*oof_eff['target'])\n",
        "\n",
        "# en = roc_auc_score(label_arr, t['target'])\n",
        "# print(en)"
      ],
      "execution_count": null,
      "outputs": []
    },
    {
      "cell_type": "code",
      "metadata": {
        "id": "BW8Ao0IDeZgt"
      },
      "source": [
        "\n",
        "t = oof_resnet.copy()\n",
        "t['target'] = (0.4*t['target']) + (0.35*oof_ns['target']) + (0.15*oof_eff['target']) + (0.1*oof_noflip['target'])\n",
        "\n",
        "en = roc_auc_score(label_arr, t['target'])\n",
        "print(en)"
      ],
      "execution_count": null,
      "outputs": []
    },
    {
      "cell_type": "code",
      "metadata": {
        "id": "I00A_abxZMAi"
      },
      "source": [
        "tmp = pred_resnet.copy()\n",
        "tmp['target'] = 0.2*((0.4*tmp['target']) + (0.35*pred_ns['target']) + (0.15*pred_eff['target']) + (0.1*pred_noflip['target'])) + (0.8*pred_noisy['target'])\n"
      ],
      "execution_count": null,
      "outputs": []
    },
    {
      "cell_type": "code",
      "metadata": {
        "id": "h71BYAiDZkDQ"
      },
      "source": [
        "tmp.to_csv('./ensemble_two_one_channel', index = False)"
      ],
      "execution_count": null,
      "outputs": []
    },
    {
      "cell_type": "code",
      "metadata": {
        "id": "qNDiclXmaVTL"
      },
      "source": [
        "tmp"
      ],
      "execution_count": null,
      "outputs": []
    },
    {
      "cell_type": "markdown",
      "metadata": {
        "id": "J9TowYOeyVS-"
      },
      "source": [
        "# EOF"
      ]
    }
  ]
}